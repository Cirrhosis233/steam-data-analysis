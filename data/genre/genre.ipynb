{
 "cells": [
  {
   "cell_type": "code",
   "execution_count": 36,
   "metadata": {},
   "outputs": [],
   "source": [
    "# import undetected_chromedriver as uc\n",
    "import requests\n",
    "from bs4 import BeautifulSoup\n",
    "import pandas as pd\n",
    "import time"
   ]
  },
  {
   "cell_type": "markdown",
   "metadata": {},
   "source": [
    "# Get Steam_DB genres ids and names"
   ]
  },
  {
   "cell_type": "code",
   "execution_count": null,
   "metadata": {},
   "outputs": [],
   "source": [
    "driver = uc.Chrome()\n",
    "driver.get(\"https://steamdb.info/tags/\")\n",
    "time.sleep(3)\n",
    "page = driver.page_source\n",
    "soup = BeautifulSoup(page,\"html.parser\")\n",
    "labels = soup.find(\"div\",{\"id\":\"list\"}).find_all(\"div\",{\"class\":\"label\"})\n",
    "\n",
    "genres = []\n",
    "for label in labels:\n",
    "    dic = {}\n",
    "    a = label.find(\"a\")\n",
    "    id = a[\"href\"].split(\"/\")[-2]\n",
    "    text = a.text.strip()\n",
    "    dic[\"id\"] = id\n",
    "    dic[\"name\"] = text\n",
    "    genres.append(dic)\n",
    "\n",
    "driver.close()"
   ]
  },
  {
   "cell_type": "code",
   "execution_count": null,
   "metadata": {},
   "outputs": [
    {
     "data": {
      "text/html": [
       "<div>\n",
       "<style scoped>\n",
       "    .dataframe tbody tr th:only-of-type {\n",
       "        vertical-align: middle;\n",
       "    }\n",
       "\n",
       "    .dataframe tbody tr th {\n",
       "        vertical-align: top;\n",
       "    }\n",
       "\n",
       "    .dataframe thead th {\n",
       "        text-align: right;\n",
       "    }\n",
       "</style>\n",
       "<table border=\"1\" class=\"dataframe\">\n",
       "  <thead>\n",
       "    <tr style=\"text-align: right;\">\n",
       "      <th></th>\n",
       "      <th>id</th>\n",
       "      <th>name</th>\n",
       "    </tr>\n",
       "  </thead>\n",
       "  <tbody>\n",
       "    <tr>\n",
       "      <th>0</th>\n",
       "      <td>492</td>\n",
       "      <td>Indie</td>\n",
       "    </tr>\n",
       "    <tr>\n",
       "      <th>1</th>\n",
       "      <td>1003823</td>\n",
       "      <td>Profile Features Limited</td>\n",
       "    </tr>\n",
       "    <tr>\n",
       "      <th>2</th>\n",
       "      <td>19</td>\n",
       "      <td>Action</td>\n",
       "    </tr>\n",
       "    <tr>\n",
       "      <th>3</th>\n",
       "      <td>597</td>\n",
       "      <td>Casual</td>\n",
       "    </tr>\n",
       "    <tr>\n",
       "      <th>4</th>\n",
       "      <td>4182</td>\n",
       "      <td>Singleplayer</td>\n",
       "    </tr>\n",
       "  </tbody>\n",
       "</table>\n",
       "</div>"
      ],
      "text/plain": [
       "        id                      name\n",
       "0      492                     Indie\n",
       "1  1003823  Profile Features Limited\n",
       "2       19                    Action\n",
       "3      597                    Casual\n",
       "4     4182              Singleplayer"
      ]
     },
     "execution_count": 28,
     "metadata": {},
     "output_type": "execute_result"
    }
   ],
   "source": [
    "genre_id = pd.DataFrame(genres)\n",
    "genre_id.to_csv(\"genres_and_ids.csv\")\n",
    "genre_id.head()"
   ]
  },
  {
   "cell_type": "markdown",
   "metadata": {},
   "source": [
    "# Get all tags for game in joint.csv"
   ]
  },
  {
   "cell_type": "code",
   "execution_count": null,
   "metadata": {},
   "outputs": [],
   "source": [
    "api_key = \"6sRnydxcHkpMyGjFzXFZNZ1e6pE\"\n",
    "cat ={\"id\":[],\"name\":[]}\n",
    "gen ={\"id\":[],\"name\":[]}\n",
    "error_lst = []\n",
    "result = []"
   ]
  },
  {
   "cell_type": "code",
   "execution_count": 73,
   "metadata": {},
   "outputs": [],
   "source": [
    "with open(\"leak_ids.csv\") as f:\n",
    "    ids = [id.strip() for id in f.readlines()[1:]]\n",
    "\n",
    "\n",
    "for app_id in ids:\n",
    "    dic = {}\n",
    "    page = requests.get(f\"https://api.steamapis.com/market/app/{app_id}?api_key={api_key}\").json()\n",
    "\n",
    "    keys = list(page.keys())\n",
    "    if \"genres\" in keys and \"categories\" in keys:\n",
    "\n",
    "        #get all categories of the app\n",
    "        categories = page[\"categories\"]\n",
    "        cat_lst = []\n",
    "        for category in categories:\n",
    "            cat_id = category[\"id\"] \n",
    "            cat_name = category[\"description\"] \n",
    "\n",
    "            #update category_index.csv\n",
    "            if cat_id not in cat[\"id\"]:\n",
    "                cat[\"id\"].append(cat_id)\n",
    "                cat[\"name\"].append(cat_name)\n",
    "            \n",
    "            cat_lst.append(str(cat_id))\n",
    "\n",
    "\n",
    "        #get all genres of the app\n",
    "        genres = page[\"genres\"]\n",
    "        gen_lst = []\n",
    "        for genre in genres:\n",
    "            gen_id = genre[\"id\"] \n",
    "            gen_name = genre[\"description\"] \n",
    "\n",
    "            #upload genre_index.csv\n",
    "            if gen_id not in gen[\"id\"]:\n",
    "                gen[\"id\"].append(gen_id)\n",
    "                gen[\"name\"].append(gen_name)\n",
    "            \n",
    "            gen_lst.append(str(gen_id))\n",
    "\n",
    "\n",
    "        dic[\"id\"] = app_id\n",
    "        dic[\"category\"] = \",\".join(cat_lst)\n",
    "        dic[\"genre\"] = \",\".join(gen_lst)\n",
    "        \n",
    "        result.append(dic)\n",
    "\n",
    "    else:\n",
    "        error_lst.append(app_id)\n",
    "\n"
   ]
  },
  {
   "cell_type": "code",
   "execution_count": 82,
   "metadata": {},
   "outputs": [],
   "source": [
    "final = pd.DataFrame(result)\n",
    "final.to_csv(\"leak_category_genre.csv\", index = False)"
   ]
  },
  {
   "cell_type": "code",
   "execution_count": 78,
   "metadata": {},
   "outputs": [],
   "source": [
    "cat_df = pd.DataFrame.from_dict(cat)\n",
    "cat_df.to_csv(\"category_index.csv\",index=False)"
   ]
  },
  {
   "cell_type": "code",
   "execution_count": 79,
   "metadata": {},
   "outputs": [],
   "source": [
    "gen_df = pd.DataFrame.from_dict(gen)\n",
    "gen_df.to_csv(\"genre_index.csv\",index=False)"
   ]
  },
  {
   "cell_type": "code",
   "execution_count": 81,
   "metadata": {},
   "outputs": [
    {
     "name": "stdout",
     "output_type": "stream",
     "text": [
      "6604\n",
      "6623\n"
     ]
    }
   ],
   "source": [
    "print(len(error_lst))\n",
    "print(len(result))"
   ]
  }
 ],
 "metadata": {
  "kernelspec": {
   "display_name": "Python 3.8.13 ('steam')",
   "language": "python",
   "name": "python3"
  },
  "language_info": {
   "codemirror_mode": {
    "name": "ipython",
    "version": 3
   },
   "file_extension": ".py",
   "mimetype": "text/x-python",
   "name": "python",
   "nbconvert_exporter": "python",
   "pygments_lexer": "ipython3",
   "version": "3.8.13"
  },
  "orig_nbformat": 4,
  "vscode": {
   "interpreter": {
    "hash": "3904e9169d5f8c2953a1dcf1e7978cbeedad4be2a3441923f953ca8fe9057d10"
   }
  }
 },
 "nbformat": 4,
 "nbformat_minor": 2
}
