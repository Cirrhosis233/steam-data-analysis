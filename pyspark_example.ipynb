{
 "cells": [
  {
   "cell_type": "code",
   "execution_count": 8,
   "metadata": {},
   "outputs": [],
   "source": [
    "from pyspark.sql import SparkSession\n",
    "\n",
    "spark = SparkSession.builder.master(\"local[4]\").appName(\"Sparklocal\").getOrCreate()\n",
    "\n",
    "sc = SparkSession.sparkContext\n",
    "\n",
    "df = spark.read.csv(\"test.csv\", header=True)"
   ]
  },
  {
   "cell_type": "code",
   "execution_count": 9,
   "metadata": {},
   "outputs": [
    {
     "name": "stdout",
     "output_type": "stream",
     "text": [
      "+---+-----------------+-----+------+--------+\n",
      "|_c0|             date|price|  gain|discount|\n",
      "+---+-----------------+-----+------+--------+\n",
      "|  0|  January 5, 2021|$9.99|+$8.00|       -|\n",
      "|  1|December 22, 2020|$1.99|-$8.00|    -80%|\n",
      "|  2| December 1, 2020|$9.99|+$8.00|       -|\n",
      "|  3|November 25, 2020|$1.99|-$8.00|    -80%|\n",
      "|  4|     July 9, 2020|$9.99|+$8.00|       -|\n",
      "|  5|    June 25, 2020|$1.99|-$8.00|    -80%|\n",
      "|  6|  January 2, 2020|$9.99|+$9.00|       -|\n",
      "|  7|December 19, 2019|$0.99|-$9.00|    -90%|\n",
      "|  8| December 3, 2019|$9.99|+$9.00|       -|\n",
      "|  9|November 26, 2019|$0.99|-$9.00|    -90%|\n",
      "| 10|     July 9, 2019|$9.99|+$9.00|       -|\n",
      "| 11|    June 25, 2019|$0.99|-$9.00|    -90%|\n",
      "| 12|February 11, 2019|$9.99|+$9.00|       -|\n",
      "| 13| February 4, 2019|$0.99|-$9.00|    -90%|\n",
      "| 14|  January 3, 2019|$9.99|+$9.00|       -|\n",
      "| 15|December 20, 2018|$0.99|-$9.00|    -90%|\n",
      "| 16|November 27, 2018|$9.99|+$9.00|       -|\n",
      "| 17|November 21, 2018|$0.99|-$9.00|    -90%|\n",
      "| 18|     July 5, 2018|$9.99|+$9.00|       -|\n",
      "| 19|    June 21, 2018|$0.99|-$9.00|    -90%|\n",
      "+---+-----------------+-----+------+--------+\n",
      "only showing top 20 rows\n",
      "\n"
     ]
    }
   ],
   "source": [
    "df.show()"
   ]
  },
  {
   "cell_type": "code",
   "execution_count": null,
   "metadata": {},
   "outputs": [],
   "source": []
  }
 ],
 "metadata": {
  "kernelspec": {
   "display_name": "Python 3.8.13 ('steam')",
   "language": "python",
   "name": "python3"
  },
  "language_info": {
   "codemirror_mode": {
    "name": "ipython",
    "version": 3
   },
   "file_extension": ".py",
   "mimetype": "text/x-python",
   "name": "python",
   "nbconvert_exporter": "python",
   "pygments_lexer": "ipython3",
   "version": "3.8.13"
  },
  "orig_nbformat": 4,
  "vscode": {
   "interpreter": {
    "hash": "b0daf26970eacc86fd4e2f45a850ace35d12ba2d31a96277331a432b2933d783"
   }
  }
 },
 "nbformat": 4,
 "nbformat_minor": 2
}
