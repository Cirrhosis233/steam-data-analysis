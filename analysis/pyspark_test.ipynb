{
 "cells": [
  {
   "cell_type": "code",
   "execution_count": 1,
   "metadata": {},
   "outputs": [],
   "source": [
    "from pyspark.sql import SparkSession\n",
    "\n",
    "# Require CPU 4 Core\n",
    "spark = SparkSession.builder.master(\"local[4]\") \\\n",
    "                    .appName('SparkLocal') \\\n",
    "                    .getOrCreate()\n",
    "sc = SparkSession.sparkContext"
   ]
  },
  {
   "cell_type": "code",
   "execution_count": 2,
   "metadata": {},
   "outputs": [],
   "source": [
    "spark.sparkContext.stop()"
   ]
  },
  {
   "cell_type": "code",
   "execution_count": 2,
   "metadata": {},
   "outputs": [],
   "source": [
    "df = spark.read.csv(\"./test_data/\") # 前提是col相同，会把所有的合并，分不出游戏id，所以我们其实用不到这样，直接一个循环搞"
   ]
  },
  {
   "cell_type": "code",
   "execution_count": 3,
   "metadata": {},
   "outputs": [
    {
     "name": "stdout",
     "output_type": "stream",
     "text": [
      "+----------+--------+----+----+-------+-----+----+\n",
      "|       _c0|     _c1| _c2| _c3|    _c4|  _c5| _c6|\n",
      "+----------+--------+----+----+-------+-----+----+\n",
      "|2015-04-01|13698000|null|null|   null|    0|null|\n",
      "|2015-04-02|13685000|null|null|   null|19.99|null|\n",
      "|2015-04-03|13661000|null|null|   null|19.99|null|\n",
      "|2015-04-04|13649000|null|null|   null|19.99|null|\n",
      "|2015-04-05|13659000|null|null|#2B6A94|19.99|null|\n",
      "|2015-04-06|13643000|null|null|   null|19.99|null|\n",
      "|2015-04-07|13627000|null|null|   null|19.99|null|\n",
      "|2015-04-08|13607000|null|null|   null|19.99|null|\n",
      "|2015-04-09|13579000|null|null|   null|19.99|null|\n",
      "|2015-04-10|13592000|null|null|   null|19.99|null|\n",
      "|2015-04-11|13586000|null|null|   null|19.99|null|\n",
      "|2015-04-12|13592000|null|null|#2B6A94|19.99|null|\n",
      "|2015-04-13|13604000|null|null|   null|19.99|null|\n",
      "|2015-04-14|13609000|null|null|   null|19.99|null|\n",
      "|2015-04-15|13619000|null|null|   null|19.99|null|\n",
      "|2015-04-16|13622000|null|null|   null|19.99|null|\n",
      "|2015-04-17|13628000|null|null|   null|19.99|null|\n",
      "|2015-04-18|13638000|null|null|   null|19.99|null|\n",
      "|2015-04-19|13631000|null|null|#2B6A94|19.99|null|\n",
      "|2015-04-20|13639000|null|null|   null|19.99|null|\n",
      "+----------+--------+----+----+-------+-----+----+\n",
      "only showing top 20 rows\n",
      "\n"
     ]
    }
   ],
   "source": [
    "df.show()"
   ]
  },
  {
   "cell_type": "code",
   "execution_count": null,
   "metadata": {},
   "outputs": [],
   "source": []
  }
 ],
 "metadata": {
  "kernelspec": {
   "display_name": "Python 3.8.13 ('steam')",
   "language": "python",
   "name": "python3"
  },
  "language_info": {
   "codemirror_mode": {
    "name": "ipython",
    "version": 3
   },
   "file_extension": ".py",
   "mimetype": "text/x-python",
   "name": "python",
   "nbconvert_exporter": "python",
   "pygments_lexer": "ipython3",
   "version": "3.8.13"
  },
  "orig_nbformat": 4,
  "vscode": {
   "interpreter": {
    "hash": "458dc80a6ad14cef196de2775b7390cc1d8564fbf55b15b1a029da866268c4a0"
   }
  }
 },
 "nbformat": 4,
 "nbformat_minor": 2
}
