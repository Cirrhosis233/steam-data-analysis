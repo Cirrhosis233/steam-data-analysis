{
 "cells": [
  {
   "cell_type": "code",
   "execution_count": 1,
   "metadata": {},
   "outputs": [],
   "source": [
    "from pyspark.sql import SparkSession"
   ]
  },
  {
   "cell_type": "code",
   "execution_count": 16,
   "metadata": {},
   "outputs": [],
   "source": [
    "# Require CPU 4 Core\n",
    "spark = SparkSession.builder.master(\"local[4]\") \\\n",
    "                    .appName('SparkLocal') \\\n",
    "                    .getOrCreate()"
   ]
  },
  {
   "cell_type": "code",
   "execution_count": 14,
   "metadata": {},
   "outputs": [],
   "source": [
    "spark.sparkContext.stop()"
   ]
  },
  {
   "cell_type": "code",
   "execution_count": 2,
   "metadata": {},
   "outputs": [],
   "source": [
    "from pyspark import SparkContext"
   ]
  },
  {
   "cell_type": "code",
   "execution_count": 3,
   "metadata": {},
   "outputs": [],
   "source": [
    "sc = SparkContext(\"local\", \"SparkLocal\")"
   ]
  },
  {
   "cell_type": "code",
   "execution_count": 17,
   "metadata": {},
   "outputs": [],
   "source": [
    "df = spark.read.csv(\"./test.csv\")"
   ]
  },
  {
   "cell_type": "code",
   "execution_count": 6,
   "metadata": {},
   "outputs": [
    {
     "name": "stdout",
     "output_type": "stream",
     "text": [
      "root\n",
      " |-- _c0: string (nullable = true)\n",
      " |-- _c1: string (nullable = true)\n",
      " |-- _c2: string (nullable = true)\n",
      " |-- _c3: string (nullable = true)\n",
      " |-- _c4: string (nullable = true)\n",
      " |-- _c5: string (nullable = true)\n",
      " |-- _c6: string (nullable = true)\n",
      "\n"
     ]
    }
   ],
   "source": [
    "df.printSchema()"
   ]
  },
  {
   "cell_type": "code",
   "execution_count": 7,
   "metadata": {},
   "outputs": [
    {
     "data": {
      "text/plain": [
       "DataFrame[_c0: string, _c1: string, _c2: string, _c3: string, _c4: string, _c5: string, _c6: string]"
      ]
     },
     "execution_count": 7,
     "metadata": {},
     "output_type": "execute_result"
    }
   ],
   "source": [
    "df"
   ]
  },
  {
   "cell_type": "code",
   "execution_count": 9,
   "metadata": {},
   "outputs": [
    {
     "data": {
      "text/html": [
       "\n",
       "            <div>\n",
       "                <p><b>SparkSession - in-memory</b></p>\n",
       "                \n",
       "        <div>\n",
       "            <p><b>SparkContext</b></p>\n",
       "\n",
       "            <p><a href=\"http://10.21.239.59:4040\">Spark UI</a></p>\n",
       "\n",
       "            <dl>\n",
       "              <dt>Version</dt>\n",
       "                <dd><code>v3.3.1</code></dd>\n",
       "              <dt>Master</dt>\n",
       "                <dd><code>local</code></dd>\n",
       "              <dt>AppName</dt>\n",
       "                <dd><code>SparkLocal</code></dd>\n",
       "            </dl>\n",
       "        </div>\n",
       "        \n",
       "            </div>\n",
       "        "
      ],
      "text/plain": [
       "<pyspark.sql.session.SparkSession at 0x2727ff4b910>"
      ]
     },
     "execution_count": 9,
     "metadata": {},
     "output_type": "execute_result"
    }
   ],
   "source": [
    "spark.getActiveSession()"
   ]
  },
  {
   "cell_type": "code",
   "execution_count": 12,
   "metadata": {},
   "outputs": [
    {
     "name": "stdout",
     "output_type": "stream",
     "text": [
      "+---------+\n",
      "|namespace|\n",
      "+---------+\n",
      "|  default|\n",
      "+---------+\n",
      "\n"
     ]
    }
   ],
   "source": [
    "spark.sql('show databases').show()"
   ]
  },
  {
   "cell_type": "code",
   "execution_count": 13,
   "metadata": {},
   "outputs": [
    {
     "name": "stdout",
     "output_type": "stream",
     "text": [
      "+----------+------+-----+----+-------+-----+----+\n",
      "|       _c0|   _c1|  _c2| _c3|    _c4|  _c5| _c6|\n",
      "+----------+------+-----+----+-------+-----+----+\n",
      "|      date|Owners|event|link|  color|Price|val3|\n",
      "|2015-04-01|  5000| null|null|   null| 8.99|null|\n",
      "|2015-04-02|  5000| null|null|   null| 8.99|null|\n",
      "|2015-04-03|  5000| null|null|   null| 8.99|null|\n",
      "|2015-04-04|  6000| null|null|   null| 8.99|null|\n",
      "|2015-04-05|  6000| null|null|#2B6A94| 8.99|null|\n",
      "|2015-04-06|  6000| null|null|   null| 8.99|null|\n",
      "|2015-04-07|  null| null|null|   null| 8.99|null|\n",
      "|2015-04-08|  6000| null|null|   null| 8.99|null|\n",
      "|2015-04-09|  7000| null|null|   null| 8.99|null|\n",
      "|2015-04-10|  8000| null|null|   null| 8.99|null|\n",
      "|2015-04-11|  8000| null|null|   null| 8.99|null|\n",
      "|2015-04-12|  8000| null|null|#2B6A94| 8.99|null|\n",
      "|2015-04-13|  8000| null|null|   null| 8.99|null|\n",
      "|2015-04-14|  8000| null|null|   null| 8.99|null|\n",
      "|2015-04-15|  8000| null|null|   null| 8.99|null|\n",
      "|2015-04-16|  8000| null|null|   null| 8.99|null|\n",
      "|2015-04-17|  9000| null|null|   null| 8.99|null|\n",
      "|2015-04-18|  9000| null|null|   null| 8.99|null|\n",
      "|2015-04-19|  9000| null|null|#2B6A94| 8.99|null|\n",
      "+----------+------+-----+----+-------+-----+----+\n",
      "only showing top 20 rows\n",
      "\n"
     ]
    }
   ],
   "source": [
    "df.show()"
   ]
  },
  {
   "cell_type": "code",
   "execution_count": null,
   "metadata": {},
   "outputs": [],
   "source": []
  }
 ],
 "metadata": {
  "kernelspec": {
   "display_name": "Python 3.8.13 ('steam')",
   "language": "python",
   "name": "python3"
  },
  "language_info": {
   "codemirror_mode": {
    "name": "ipython",
    "version": 3
   },
   "file_extension": ".py",
   "mimetype": "text/x-python",
   "name": "python",
   "nbconvert_exporter": "python",
   "pygments_lexer": "ipython3",
   "version": "3.8.13"
  },
  "orig_nbformat": 4,
  "vscode": {
   "interpreter": {
    "hash": "458dc80a6ad14cef196de2775b7390cc1d8564fbf55b15b1a029da866268c4a0"
   }
  }
 },
 "nbformat": 4,
 "nbformat_minor": 2
}
