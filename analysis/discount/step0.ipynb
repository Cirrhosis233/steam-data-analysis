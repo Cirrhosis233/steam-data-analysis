{
 "cells": [
  {
   "cell_type": "code",
   "execution_count": 1,
   "metadata": {},
   "outputs": [],
   "source": [
    "from pyspark.sql import SparkSession\n",
    "from pyspark import SparkContext\n",
    "import pyspark.sql.functions as func\n",
    "import pandas as pd"
   ]
  },
  {
   "cell_type": "code",
   "execution_count": 2,
   "metadata": {},
   "outputs": [],
   "source": [
    "sc = SparkContext(appName=\"discount analysis\")\n",
    "spark = SparkSession(sc)"
   ]
  },
  {
   "cell_type": "code",
   "execution_count": 5,
   "metadata": {},
   "outputs": [],
   "source": [
    "input_df = spark.read.csv(\"input.txt\")"
   ]
  },
  {
   "cell_type": "markdown",
   "metadata": {},
   "source": [
    "# review - price history"
   ]
  },
  {
   "cell_type": "code",
   "execution_count": 46,
   "metadata": {},
   "outputs": [],
   "source": [
    "import os\n",
    "input_path = \"../../data/review_price/review-download/output/\"\n",
    "input_list = os.listdir(input_path)\n",
    "with open(\"input.txt\", 'w', encoding='utf-8') as f:\n",
    "    for file in input_list:\n",
    "        f.write(file+'\\n')"
   ]
  },
  {
   "cell_type": "code",
   "execution_count": 47,
   "metadata": {},
   "outputs": [
    {
     "name": "stdout",
     "output_type": "stream",
     "text": [
      "<class 'list'>\n"
     ]
    },
    {
     "data": {
      "text/plain": [
       "['10180.csv',\n",
       " '10220.csv',\n",
       " '102600.csv',\n",
       " '104900.csv',\n",
       " '10500.csv',\n",
       " '105000.csv',\n",
       " '105600.csv',\n",
       " '10680.csv',\n",
       " '107100.csv',\n",
       " '107200.csv']"
      ]
     },
     "execution_count": 47,
     "metadata": {},
     "output_type": "execute_result"
    }
   ],
   "source": [
    "input_df = spark.read.csv(\"input.txt\")\n",
    "input_df = input_df.toPandas()\n",
    "input_list = input_df[input_df.columns[0]].to_list()\n",
    "print(type(input_list))\n",
    "input_list[:10]"
   ]
  },
  {
   "cell_type": "code",
   "execution_count": 48,
   "metadata": {},
   "outputs": [
    {
     "name": "stdout",
     "output_type": "stream",
     "text": [
      "+-------------------+--------+-----+-------------+--------+-------------+--------------+--------------+------------+\n",
      "|               date|  Owners|Price|PriceChangeTo|discount|total_reviews|total_positive|total_negative|review_score|\n",
      "+-------------------+--------+-----+-------------+--------+-------------+--------------+--------------+------------+\n",
      "|2015-04-01 00:00:00|13698000|  0.0|        19.99|    null|        34324|         33346|           978|           9|\n",
      "|2015-06-11 00:00:00|13830000|19.99|         7.49|   37.47|        36287|         35177|          1110|           9|\n",
      "|2015-06-22 00:00:00|13893000| 7.49|        19.99|  266.89|        36806|         35677|          1129|           9|\n",
      "|2015-11-25 00:00:00|14300000|19.99|         7.49|   37.47|        40673|         39321|          1352|           9|\n",
      "|2015-12-01 00:00:00|14314000| 7.49|        19.99|  266.89|        40938|         39569|          1369|           9|\n",
      "|2015-12-22 00:00:00|14362000|19.99|         7.49|   37.47|        41547|         40150|          1397|           9|\n",
      "|2016-01-04 00:00:00|14444000| 7.49|        19.99|  266.89|        42245|         40806|          1439|           9|\n",
      "|2016-02-05 00:00:00|15218000|19.99|         4.99|   24.96|        43308|         41807|          1501|           9|\n",
      "|2016-02-12 00:00:00|14906000| 4.99|        19.99|   400.6|        43706|         42178|          1528|           9|\n",
      "|2016-11-23 00:00:00|15629000|19.99|         6.79|   33.97|        50195|         48312|          1883|           9|\n",
      "+-------------------+--------+-----+-------------+--------+-------------+--------------+--------------+------------+\n",
      "only showing top 10 rows\n",
      "\n"
     ]
    }
   ],
   "source": [
    "df = spark.read.csv(input_path+\"240.csv\", header=True, inferSchema=True)\n",
    "df.show(10)"
   ]
  },
  {
   "cell_type": "code",
   "execution_count": 49,
   "metadata": {},
   "outputs": [
    {
     "name": "stdout",
     "output_type": "stream",
     "text": [
      "root\n",
      " |-- date: timestamp (nullable = true)\n",
      " |-- Owners: integer (nullable = true)\n",
      " |-- Price: double (nullable = true)\n",
      " |-- PriceChangeTo: double (nullable = true)\n",
      " |-- discount: double (nullable = true)\n",
      " |-- total_reviews: integer (nullable = true)\n",
      " |-- total_positive: integer (nullable = true)\n",
      " |-- total_negative: integer (nullable = true)\n",
      " |-- review_score: integer (nullable = true)\n",
      "\n"
     ]
    }
   ],
   "source": [
    "df.printSchema()"
   ]
  },
  {
   "cell_type": "code",
   "execution_count": 50,
   "metadata": {},
   "outputs": [
    {
     "name": "stdout",
     "output_type": "stream",
     "text": [
      "+-------------------+--------+-----+-------------+--------+-------------+--------------+--------------+------------+\n",
      "|               date|  Owners|Price|PriceChangeTo|discount|total_reviews|total_positive|total_negative|review_score|\n",
      "+-------------------+--------+-----+-------------+--------+-------------+--------------+--------------+------------+\n",
      "|2015-06-11 00:00:00|13830000|19.99|         7.49|   37.47|        36287|         35177|          1110|           9|\n",
      "|2015-06-22 00:00:00|13893000| 7.49|        19.99|  266.89|        36806|         35677|          1129|           9|\n",
      "|2015-11-25 00:00:00|14300000|19.99|         7.49|   37.47|        40673|         39321|          1352|           9|\n",
      "|2015-12-01 00:00:00|14314000| 7.49|        19.99|  266.89|        40938|         39569|          1369|           9|\n",
      "|2015-12-22 00:00:00|14362000|19.99|         7.49|   37.47|        41547|         40150|          1397|           9|\n",
      "|2016-01-04 00:00:00|14444000| 7.49|        19.99|  266.89|        42245|         40806|          1439|           9|\n",
      "|2016-02-05 00:00:00|15218000|19.99|         4.99|   24.96|        43308|         41807|          1501|           9|\n",
      "|2016-02-12 00:00:00|14906000| 4.99|        19.99|   400.6|        43706|         42178|          1528|           9|\n",
      "|2016-11-23 00:00:00|15629000|19.99|         6.79|   33.97|        50195|         48312|          1883|           9|\n",
      "|2016-11-29 00:00:00|15462000| 6.79|        19.99|   294.4|        52469|         50555|          1914|           9|\n",
      "+-------------------+--------+-----+-------------+--------+-------------+--------------+--------------+------------+\n",
      "only showing top 10 rows\n",
      "\n"
     ]
    }
   ],
   "source": [
    "df = df.dropna()\n",
    "df.show(10)"
   ]
  },
  {
   "cell_type": "code",
   "execution_count": 51,
   "metadata": {},
   "outputs": [
    {
     "data": {
      "text/plain": [
       "['date',\n",
       " 'Owners',\n",
       " 'Price',\n",
       " 'PriceChangeTo',\n",
       " 'discount',\n",
       " 'total_reviews',\n",
       " 'total_positive',\n",
       " 'total_negative',\n",
       " 'review_score']"
      ]
     },
     "execution_count": 51,
     "metadata": {},
     "output_type": "execute_result"
    }
   ],
   "source": [
    "df.columns"
   ]
  },
  {
   "cell_type": "code",
   "execution_count": 52,
   "metadata": {},
   "outputs": [
    {
     "name": "stdout",
     "output_type": "stream",
     "text": [
      "+--------+\n",
      "|discount|\n",
      "+--------+\n",
      "|   37.47|\n",
      "|  266.89|\n",
      "|   37.47|\n",
      "|  266.89|\n",
      "|   37.47|\n",
      "+--------+\n",
      "only showing top 5 rows\n",
      "\n"
     ]
    }
   ],
   "source": [
    "df.select('discount').show(5)"
   ]
  },
  {
   "cell_type": "code",
   "execution_count": 53,
   "metadata": {},
   "outputs": [
    {
     "name": "stdout",
     "output_type": "stream",
     "text": [
      "+-------------------+--------+-----+-------------+--------+-------------+--------------+--------------+------------+\n",
      "|               date|  Owners|Price|PriceChangeTo|discount|total_reviews|total_positive|total_negative|review_score|\n",
      "+-------------------+--------+-----+-------------+--------+-------------+--------------+--------------+------------+\n",
      "|2015-06-11 00:00:00|13830000|19.99|         7.49|      63|        36287|         35177|          1110|           9|\n",
      "|2015-06-22 00:00:00|13893000| 7.49|        19.99|    -167|        36806|         35677|          1129|           9|\n",
      "|2015-11-25 00:00:00|14300000|19.99|         7.49|      63|        40673|         39321|          1352|           9|\n",
      "|2015-12-01 00:00:00|14314000| 7.49|        19.99|    -167|        40938|         39569|          1369|           9|\n",
      "|2015-12-22 00:00:00|14362000|19.99|         7.49|      63|        41547|         40150|          1397|           9|\n",
      "|2016-01-04 00:00:00|14444000| 7.49|        19.99|    -167|        42245|         40806|          1439|           9|\n",
      "|2016-02-05 00:00:00|15218000|19.99|         4.99|      75|        43308|         41807|          1501|           9|\n",
      "|2016-02-12 00:00:00|14906000| 4.99|        19.99|    -301|        43706|         42178|          1528|           9|\n",
      "|2016-11-23 00:00:00|15629000|19.99|         6.79|      66|        50195|         48312|          1883|           9|\n",
      "|2016-11-29 00:00:00|15462000| 6.79|        19.99|    -194|        52469|         50555|          1914|           9|\n",
      "+-------------------+--------+-----+-------------+--------+-------------+--------------+--------------+------------+\n",
      "only showing top 10 rows\n",
      "\n"
     ]
    }
   ],
   "source": [
    "df = df.withColumn(\"discount\", func.round((df.Price - df.PriceChangeTo) / df.Price * 100, 0).cast('Int'))\n",
    "df.show(10)"
   ]
  },
  {
   "cell_type": "code",
   "execution_count": 54,
   "metadata": {},
   "outputs": [
    {
     "name": "stdout",
     "output_type": "stream",
     "text": [
      "+-------------------+--------+-----+-------------+--------+-------------+--------------+--------------+------------+------+\n",
      "|               date|  Owners|Price|PriceChangeTo|discount|total_reviews|total_positive|total_negative|review_score|app_id|\n",
      "+-------------------+--------+-----+-------------+--------+-------------+--------------+--------------+------------+------+\n",
      "|2015-06-11 00:00:00|13830000|19.99|         7.49|      63|        36287|         35177|          1110|           9|   240|\n",
      "|2015-06-22 00:00:00|13893000| 7.49|        19.99|    -167|        36806|         35677|          1129|           9|   240|\n",
      "|2015-11-25 00:00:00|14300000|19.99|         7.49|      63|        40673|         39321|          1352|           9|   240|\n",
      "|2015-12-01 00:00:00|14314000| 7.49|        19.99|    -167|        40938|         39569|          1369|           9|   240|\n",
      "|2015-12-22 00:00:00|14362000|19.99|         7.49|      63|        41547|         40150|          1397|           9|   240|\n",
      "|2016-01-04 00:00:00|14444000| 7.49|        19.99|    -167|        42245|         40806|          1439|           9|   240|\n",
      "|2016-02-05 00:00:00|15218000|19.99|         4.99|      75|        43308|         41807|          1501|           9|   240|\n",
      "|2016-02-12 00:00:00|14906000| 4.99|        19.99|    -301|        43706|         42178|          1528|           9|   240|\n",
      "|2016-11-23 00:00:00|15629000|19.99|         6.79|      66|        50195|         48312|          1883|           9|   240|\n",
      "|2016-11-29 00:00:00|15462000| 6.79|        19.99|    -194|        52469|         50555|          1914|           9|   240|\n",
      "|2016-12-22 00:00:00|15799000|19.99|         6.79|      66|        53081|         51139|          1942|           9|   240|\n",
      "|2017-01-02 00:00:00|15861000| 6.79|        19.99|    -194|        53687|         51711|          1976|           9|   240|\n",
      "|2017-06-22 00:00:00|15600000|19.99|         6.79|      66|        57960|         55775|          2185|           9|   240|\n",
      "|2017-07-05 00:00:00|15883000| 6.79|        19.99|    -194|        58870|         56640|          2230|           9|   240|\n",
      "|2017-12-21 00:00:00|16215000|19.99|         6.79|      66|        63255|         60794|          2461|           9|   240|\n",
      "|2018-01-04 00:00:00|16388000| 6.79|        19.99|    -194|        64032|         61535|          2497|           9|   240|\n",
      "|2018-02-15 00:00:00|15892000|19.99|         6.79|      66|        65140|         62584|          2556|           9|   240|\n",
      "|2018-02-19 00:00:00|15823000| 6.79|        19.99|    -194|        65282|         62720|          2562|           9|   240|\n",
      "|2018-06-21 00:00:00|13820000|19.99|         6.79|      66|        67463|         64752|          2711|           9|   240|\n",
      "|2018-07-05 00:00:00|13854000| 6.79|        19.99|    -194|        67990|         65254|          2736|           9|   240|\n",
      "+-------------------+--------+-----+-------------+--------+-------------+--------------+--------------+------------+------+\n",
      "only showing top 20 rows\n",
      "\n"
     ]
    }
   ],
   "source": [
    "df = df.withColumn('app_id', func.lit('240'))\n",
    "df.show()"
   ]
  },
  {
   "cell_type": "code",
   "execution_count": 55,
   "metadata": {},
   "outputs": [],
   "source": [
    "# df.write.options(header='True', delimiter=',').csv(\"./ouput\")"
   ]
  },
  {
   "cell_type": "code",
   "execution_count": null,
   "metadata": {},
   "outputs": [],
   "source": [
    "id1 = input_list[0]\n",
    "df1 = spark.read.csv(input_path+id1, header=True, inferSchema=True)\n",
    "df1 = df1.withColumn('app_id', func.lit(id1))\n",
    "df1.show()"
   ]
  },
  {
   "cell_type": "code",
   "execution_count": null,
   "metadata": {},
   "outputs": [],
   "source": [
    "id2 = input_list[1]\n",
    "df2 = spark.read.csv(input_path+id2, header=True, inferSchema=True)\n",
    "df2 = df2.withColumn('app_id', func.lit(id2))\n",
    "df2.show()"
   ]
  },
  {
   "cell_type": "code",
   "execution_count": null,
   "metadata": {},
   "outputs": [],
   "source": [
    "union_df = df1.union(df2)\n",
    "union_df.show(100)"
   ]
  }
 ],
 "metadata": {
  "kernelspec": {
   "display_name": "Python 3.8.13 ('steam')",
   "language": "python",
   "name": "python3"
  },
  "language_info": {
   "codemirror_mode": {
    "name": "ipython",
    "version": 3
   },
   "file_extension": ".py",
   "mimetype": "text/x-python",
   "name": "python",
   "nbconvert_exporter": "python",
   "pygments_lexer": "ipython3",
   "version": "3.8.13"
  },
  "orig_nbformat": 4,
  "vscode": {
   "interpreter": {
    "hash": "458dc80a6ad14cef196de2775b7390cc1d8564fbf55b15b1a029da866268c4a0"
   }
  }
 },
 "nbformat": 4,
 "nbformat_minor": 2
}
