{
 "cells": [
  {
   "cell_type": "code",
   "execution_count": 1,
   "metadata": {},
   "outputs": [],
   "source": [
    "from pyspark.sql import SparkSession\n",
    "from pyspark import SparkContext\n",
    "import pyspark.sql.functions as func\n",
    "from pyspark.sql import Window"
   ]
  },
  {
   "cell_type": "code",
   "execution_count": 2,
   "metadata": {},
   "outputs": [],
   "source": [
    "sc = SparkContext(appName=\"analysis2\")\n",
    "spark = SparkSession(sc)"
   ]
  },
  {
   "cell_type": "code",
   "execution_count": 3,
   "metadata": {},
   "outputs": [
    {
     "name": "stdout",
     "output_type": "stream",
     "text": [
      "+---+------+-----+----+----------+------------+--------+--------------+----------------+----+------------------+--------------------+------------------+------------------+-----+------+-----+------+------+------+------+-----+------+-----+------+------+------+------+------+------+------+------+------+------+------+------+-----+------+-------+-------+-------+-------+-------+-------+------+-------+-------+-------+-------+-------+-------+-------+-------+-------+-------+-------+-------+-------+-------+-------+-------+-------+-------+-------+-------+-------+-------+-------+-------+-------+------+------+\n",
      "|uid|app_id|index|year|popularity|review_score|discount|historical_low|sale_price_scale|days|sale_increase_rate|normal_increase_rate|        effect_min|       effect_plus|gen_1|gen_18|gen_2|gen_23|gen_25|gen_28|gen_29|gen_3|gen_37|gen_4|gen_51|gen_53|gen_54|gen_56|gen_57|gen_58|gen_60|gen_70|gen_71|gen_72|gen_73|gen_74|gen_9|cate_1|cate_13|cate_14|cate_15|cate_16|cate_17|cate_18|cate_2|cate_20|cate_22|cate_23|cate_24|cate_25|cate_27|cate_28|cate_29|cate_30|cate_31|cate_32|cate_35|cate_36|cate_37|cate_38|cate_39|cate_40|cate_41|cate_42|cate_43|cate_44|cate_47|cate_48|cate_49|cate_51|cate_8|cate_9|\n",
      "+---+------+-----+----+----------+------------+--------+--------------+----------------+----+------------------+--------------------+------------------+------------------+-----+------+-----+------+------+------+------+-----+------+-----+------+------+------+------+------+------+------+------+------+------+------+------+-----+------+-------+-------+-------+-------+-------+-------+------+-------+-------+-------+-------+-------+-------+-------+-------+-------+-------+-------+-------+-------+-------+-------+-------+-------+-------+-------+-------+-------+-------+-------+-------+-------+------+------+\n",
      "| 26|   500|    3|2015|      7110|           9|      80|             0|               0|   4|             13.25|   6.521739130434782| 6.728260869565218| 19.77173913043478|    0|     0|    1|     1|     0|     0|     0|    0|     0|    0|     0|     0|     0|     0|     0|     0|     0|     0|     0|     0|     0|     0|    0|     0|      0|      0|      0|      0|      0|      0|     1|      0|      1|      0|      0|      0|      0|      0|      1|      0|      0|      0|      0|      0|      0|      0|      0|      0|      0|      0|      0|      0|      0|      0|      0|      0|     0|     0|\n",
      "| 27|   500|    4|2015|      7313|           9|      80|             0|               0|   6|12.333333333333334|   7.380952380952381|4.9523809523809526|19.714285714285715|    0|     0|    1|     1|     0|     0|     0|    0|     0|    0|     0|     0|     0|     0|     0|     0|     0|     0|     0|     0|     0|     0|    0|     0|      0|      0|      0|      0|      0|      0|     1|      0|      1|      0|      0|      0|      0|      0|      1|      0|      0|      0|      0|      0|      0|      0|      0|      0|      0|      0|      0|      0|      0|      0|      0|      0|     0|     0|\n",
      "| 28|   500|    5|2015|      7542|           9|      80|             0|               0|  13| 16.76923076923077|              6.8125|  9.95673076923077| 23.58173076923077|    0|     0|    1|     1|     0|     0|     0|    0|     0|    0|     0|     0|     0|     0|     0|     0|     0|     0|     0|     0|     0|     0|    0|     0|      0|      0|      0|      0|      0|      0|     1|      0|      1|      0|      0|      0|      0|      0|      1|      0|      0|      0|      0|      0|      0|      0|      0|      0|      0|      0|      0|      0|      0|      0|      0|      0|     0|     0|\n",
      "| 31|   500|    8|2016|      8744|           9|      80|             0|               0|  11|12.636363636363637|   4.525862068965517|  8.11050156739812|17.162225705329153|    0|     0|    1|     1|     0|     0|     0|    0|     0|    0|     0|     0|     0|     0|     0|     0|     0|     0|     0|     0|     0|     0|    0|     0|      0|      0|      0|      0|      0|      0|     1|      0|      1|      0|      0|      0|      0|      0|      1|      0|      0|      0|      0|      0|      0|      0|      0|      0|      0|      0|      0|      0|      0|      0|      0|      0|     0|     0|\n",
      "| 34|   500|   11|2016|     10241|           9|      80|             0|               0|  11| 16.09090909090909|   5.815384615384615|10.275524475524474|21.906293706293706|    0|     0|    1|     1|     0|     0|     0|    0|     0|    0|     0|     0|     0|     0|     0|     0|     0|     0|     0|     0|     0|     0|    0|     0|      0|      0|      0|      0|      0|      0|     1|      0|      1|      0|      0|      0|      0|      0|      1|      0|      0|      0|      0|      0|      0|      0|      0|      0|      0|      0|      0|      0|      0|      0|      0|      0|     0|     0|\n",
      "| 53|   500|   30|2020|     28921|           9|      80|             0|               0|  14|              40.5|   18.39240506329114| 22.10759493670886|58.892405063291136|    0|     0|    1|     1|     0|     0|     0|    0|     0|    0|     0|     0|     0|     0|     0|     0|     0|     0|     0|     0|     0|     0|    0|     0|      0|      0|      0|      0|      0|      0|     1|      0|      1|      0|      0|      0|      0|      0|      1|      0|      0|      0|      0|      0|      0|      0|      0|      0|      0|      0|      0|      0|      0|      0|      0|      0|     0|     0|\n",
      "| 65|  4000|    4|2015|    144114|           9|      75|             0|               0|   6| 286.1666666666667|  179.95238095238096|106.21428571428572|466.11904761904765|    0|     0|    1|     1|     0|     0|     0|    0|     0|    0|     0|     0|     0|     0|     0|     0|     0|     0|     0|     0|     0|     0|    0|     0|      0|      0|      0|      0|      0|      0|     1|      0|      1|      0|      0|      0|      0|      0|      1|      0|      0|      0|      0|      0|      0|      0|      0|      0|      0|      0|      0|      0|      0|      0|      0|      0|     0|     0|\n",
      "| 76|  4000|   15|2018|    287322|           9|      50|             0|               0|   4|            168.25|  106.84297520661157| 61.40702479338843| 275.0929752066116|    0|     0|    1|     1|     0|     0|     0|    0|     0|    0|     0|     0|     0|     0|     0|     0|     0|     0|     0|     0|     0|     0|    0|     0|      0|      0|      0|      0|      0|      0|     1|      0|      1|      0|      0|      0|      0|      0|      1|      0|      0|      0|      0|      0|      0|      0|      0|      0|      0|      0|      0|      0|      0|      0|      0|      0|     0|     0|\n",
      "| 78|  4000|   17|2018|    315317|           9|      50|             0|               0|   3|106.33333333333333|                91.6|14.733333333333334|197.93333333333334|    0|     0|    1|     1|     0|     0|     0|    0|     0|    0|     0|     0|     0|     0|     0|     0|     0|     0|     0|     0|     0|     0|    0|     0|      0|      0|      0|      0|      0|      0|     1|      0|      1|      0|      0|      0|      0|      0|      1|      0|      0|      0|      0|      0|      0|      0|      0|      0|      0|      0|      0|      0|      0|      0|      0|      0|     0|     0|\n",
      "| 81|  4000|   20|2019|    333875|           9|      50|             0|               0|   7|             153.0|   92.82089552238806| 60.17910447761194|245.82089552238807|    0|     0|    1|     1|     0|     0|     0|    0|     0|    0|     0|     0|     0|     0|     0|     0|     0|     0|     0|     0|     0|     0|    0|     0|      0|      0|      0|      0|      0|      0|     1|      0|      1|      0|      0|      0|      0|      0|      1|      0|      0|      0|      0|      0|      0|      0|      0|      0|      0|      0|      0|      0|      0|      0|      0|      0|     0|     0|\n",
      "+---+------+-----+----+----------+------------+--------+--------------+----------------+----+------------------+--------------------+------------------+------------------+-----+------+-----+------+------+------+------+-----+------+-----+------+------+------+------+------+------+------+------+------+------+------+------+-----+------+-------+-------+-------+-------+-------+-------+------+-------+-------+-------+-------+-------+-------+-------+-------+-------+-------+-------+-------+-------+-------+-------+-------+-------+-------+-------+-------+-------+-------+-------+-------+-------+------+------+\n",
      "only showing top 10 rows\n",
      "\n"
     ]
    }
   ],
   "source": [
    "df = spark.read.csv(\"./analysis_input/\", header=True, inferSchema=True)\n",
    "df.show(10)"
   ]
  },
  {
   "cell_type": "code",
   "execution_count": 4,
   "metadata": {},
   "outputs": [
    {
     "name": "stdout",
     "output_type": "stream",
     "text": [
      "root\n",
      " |-- uid: integer (nullable = true)\n",
      " |-- app_id: integer (nullable = true)\n",
      " |-- index: integer (nullable = true)\n",
      " |-- year: integer (nullable = true)\n",
      " |-- popularity: integer (nullable = true)\n",
      " |-- review_score: integer (nullable = true)\n",
      " |-- discount: integer (nullable = true)\n",
      " |-- historical_low: integer (nullable = true)\n",
      " |-- sale_price_scale: integer (nullable = true)\n",
      " |-- days: integer (nullable = true)\n",
      " |-- sale_increase_rate: double (nullable = true)\n",
      " |-- normal_increase_rate: double (nullable = true)\n",
      " |-- effect_min: double (nullable = true)\n",
      " |-- effect_plus: double (nullable = true)\n",
      " |-- gen_1: integer (nullable = true)\n",
      " |-- gen_18: integer (nullable = true)\n",
      " |-- gen_2: integer (nullable = true)\n",
      " |-- gen_23: integer (nullable = true)\n",
      " |-- gen_25: integer (nullable = true)\n",
      " |-- gen_28: integer (nullable = true)\n",
      " |-- gen_29: integer (nullable = true)\n",
      " |-- gen_3: integer (nullable = true)\n",
      " |-- gen_37: integer (nullable = true)\n",
      " |-- gen_4: integer (nullable = true)\n",
      " |-- gen_51: integer (nullable = true)\n",
      " |-- gen_53: integer (nullable = true)\n",
      " |-- gen_54: integer (nullable = true)\n",
      " |-- gen_56: integer (nullable = true)\n",
      " |-- gen_57: integer (nullable = true)\n",
      " |-- gen_58: integer (nullable = true)\n",
      " |-- gen_60: integer (nullable = true)\n",
      " |-- gen_70: integer (nullable = true)\n",
      " |-- gen_71: integer (nullable = true)\n",
      " |-- gen_72: integer (nullable = true)\n",
      " |-- gen_73: integer (nullable = true)\n",
      " |-- gen_74: integer (nullable = true)\n",
      " |-- gen_9: integer (nullable = true)\n",
      " |-- cate_1: integer (nullable = true)\n",
      " |-- cate_13: integer (nullable = true)\n",
      " |-- cate_14: integer (nullable = true)\n",
      " |-- cate_15: integer (nullable = true)\n",
      " |-- cate_16: integer (nullable = true)\n",
      " |-- cate_17: integer (nullable = true)\n",
      " |-- cate_18: integer (nullable = true)\n",
      " |-- cate_2: integer (nullable = true)\n",
      " |-- cate_20: integer (nullable = true)\n",
      " |-- cate_22: integer (nullable = true)\n",
      " |-- cate_23: integer (nullable = true)\n",
      " |-- cate_24: integer (nullable = true)\n",
      " |-- cate_25: integer (nullable = true)\n",
      " |-- cate_27: integer (nullable = true)\n",
      " |-- cate_28: integer (nullable = true)\n",
      " |-- cate_29: integer (nullable = true)\n",
      " |-- cate_30: integer (nullable = true)\n",
      " |-- cate_31: integer (nullable = true)\n",
      " |-- cate_32: integer (nullable = true)\n",
      " |-- cate_35: integer (nullable = true)\n",
      " |-- cate_36: integer (nullable = true)\n",
      " |-- cate_37: integer (nullable = true)\n",
      " |-- cate_38: integer (nullable = true)\n",
      " |-- cate_39: integer (nullable = true)\n",
      " |-- cate_40: integer (nullable = true)\n",
      " |-- cate_41: integer (nullable = true)\n",
      " |-- cate_42: integer (nullable = true)\n",
      " |-- cate_43: integer (nullable = true)\n",
      " |-- cate_44: integer (nullable = true)\n",
      " |-- cate_47: integer (nullable = true)\n",
      " |-- cate_48: integer (nullable = true)\n",
      " |-- cate_49: integer (nullable = true)\n",
      " |-- cate_51: integer (nullable = true)\n",
      " |-- cate_8: integer (nullable = true)\n",
      " |-- cate_9: integer (nullable = true)\n",
      "\n"
     ]
    }
   ],
   "source": [
    "df.printSchema()"
   ]
  },
  {
   "cell_type": "code",
   "execution_count": 5,
   "metadata": {},
   "outputs": [
    {
     "data": {
      "text/plain": [
       "True"
      ]
     },
     "execution_count": 5,
     "metadata": {},
     "output_type": "execute_result"
    }
   ],
   "source": [
    "df.count() == df.dropna().count()"
   ]
  },
  {
   "cell_type": "code",
   "execution_count": 7,
   "metadata": {},
   "outputs": [
    {
     "name": "stdout",
     "output_type": "stream",
     "text": [
      "['uid', 'app_id', 'index', 'year', 'popularity', 'review_score', 'discount', 'historical_low', 'sale_price_scale', 'days', 'sale_increase_rate', 'normal_increase_rate', 'effect_min', 'effect_plus', 'gen_1', 'gen_18', 'gen_2', 'gen_23', 'gen_25', 'gen_28', 'gen_29', 'gen_3', 'gen_37', 'gen_4', 'gen_51', 'gen_53', 'gen_54', 'gen_56', 'gen_57', 'gen_58', 'gen_60', 'gen_70', 'gen_71', 'gen_72', 'gen_73', 'gen_74', 'gen_9', 'cate_1', 'cate_13', 'cate_14', 'cate_15', 'cate_16', 'cate_17', 'cate_18', 'cate_2', 'cate_20', 'cate_22', 'cate_23', 'cate_24', 'cate_25', 'cate_27', 'cate_28', 'cate_29', 'cate_30', 'cate_31', 'cate_32', 'cate_35', 'cate_36', 'cate_37', 'cate_38', 'cate_39', 'cate_40', 'cate_41', 'cate_42', 'cate_43', 'cate_44', 'cate_47', 'cate_48', 'cate_49', 'cate_51', 'cate_8', 'cate_9']\n"
     ]
    }
   ],
   "source": [
    "print(df.columns)"
   ]
  },
  {
   "cell_type": "code",
   "execution_count": 4,
   "metadata": {},
   "outputs": [
    {
     "name": "stdout",
     "output_type": "stream",
     "text": [
      "['index', 'popularity', 'review_score', 'discount', 'historical_low', 'sale_price_scale', 'days', 'gen_1', 'gen_18', 'gen_2', 'gen_23', 'gen_25', 'gen_28', 'gen_29', 'gen_3', 'gen_37', 'gen_4', 'gen_51', 'gen_53', 'gen_54', 'gen_56', 'gen_57', 'gen_58', 'gen_60', 'gen_70', 'gen_71', 'gen_72', 'gen_73', 'gen_74', 'gen_9', 'cate_1', 'cate_13', 'cate_14', 'cate_15', 'cate_16', 'cate_17', 'cate_18', 'cate_2', 'cate_20', 'cate_22', 'cate_23', 'cate_24', 'cate_25', 'cate_27', 'cate_28', 'cate_29', 'cate_30', 'cate_31', 'cate_32', 'cate_35', 'cate_36', 'cate_37', 'cate_38', 'cate_39', 'cate_40', 'cate_41', 'cate_42', 'cate_43', 'cate_44', 'cate_47', 'cate_48', 'cate_49', 'cate_51', 'cate_8', 'cate_9']\n"
     ]
    }
   ],
   "source": [
    "non_feature = ['uid', 'app_id', 'sale_increase_rate', 'normal_increase_rate', 'effect_min', 'effect_plus', 'year']\n",
    "featureCols = [x for x in df.columns if x not in non_feature]\n",
    "print(featureCols)"
   ]
  },
  {
   "cell_type": "code",
   "execution_count": 33,
   "metadata": {},
   "outputs": [
    {
     "name": "stdout",
     "output_type": "stream",
     "text": [
      "RMSE: 42.04728360688078\n",
      "MAE: 9.577245939809526\n",
      "R2: 0.15846419701000447\n",
      "=============\n",
      "RMSE: 40.255875842063155\n",
      "MAE: 7.625474255919365\n",
      "R2: 0.22864327672405127\n"
     ]
    }
   ],
   "source": [
    "from pyspark.ml.feature import VectorAssembler, StandardScaler\n",
    "from pyspark.ml.regression import LinearRegression\n",
    "from pyspark.ml.evaluation import RegressionEvaluator\n",
    "from pyspark.ml.regression import RandomForestRegressor\n",
    "\n",
    "#Linear\n",
    "final_df = df.select(featureCols + ['effect_min'])\n",
    "\n",
    "# final_df = final_df.where(final_df['effect_min'] < 1000)\n",
    "\n",
    "assembler = VectorAssembler(inputCols=featureCols, outputCol=\"features\")\n",
    "assembled_df = assembler.transform(final_df)\n",
    "standardScaler = StandardScaler(inputCol=\"features\", outputCol=\"features_scaled\")\n",
    "scaled_df = standardScaler.fit(assembled_df).transform(assembled_df)\n",
    "\n",
    "train_data, test_data = scaled_df.randomSplit([.7, .3], seed=1339)\n",
    "\n",
    "lr = (LinearRegression(featuresCol='features_scaled', labelCol=\"effect_min\", predictionCol='effect_min_pred',\n",
    "                       maxIter=100, standardization=False))\n",
    "linearModel = lr.fit(train_data)\n",
    "predictions = linearModel.transform(test_data)\n",
    "\n",
    "pred_and_labels = predictions.select(\"effect_min_pred\", \"effect_min\")\n",
    "\n",
    "evaluator = RegressionEvaluator(predictionCol='effect_min_pred', labelCol='effect_min', metricName='rmse')\n",
    "print(\"RMSE: {0}\".format(evaluator.evaluate(pred_and_labels)))\n",
    "\n",
    "evaluator = RegressionEvaluator(predictionCol='effect_min_pred', labelCol='effect_min', metricName='mae')\n",
    "print(\"MAE: {0}\".format(evaluator.evaluate(pred_and_labels)))\n",
    "\n",
    "evaluator = RegressionEvaluator(predictionCol='effect_min_pred', labelCol='effect_min', metricName='r2')\n",
    "print(\"R2: {0}\".format(evaluator.evaluate(pred_and_labels)))\n",
    "\n",
    "\n",
    "print(\"=============\")\n",
    "\n",
    "# Random Forest\n",
    "rf = RandomForestRegressor(labelCol=\"effect_min\", featuresCol=\"features\", predictionCol='effect_min_pred')\n",
    "\n",
    "rfModel = rf.fit(train_data)\n",
    "predictions = rfModel.transform(test_data)\n",
    "\n",
    "pred_and_labels = predictions.select(\"effect_min_pred\", \"effect_min\")\n",
    "\n",
    "evaluator = RegressionEvaluator(predictionCol='effect_min_pred', labelCol='effect_min', metricName='rmse')\n",
    "print(\"RMSE: {0}\".format(evaluator.evaluate(pred_and_labels)))\n",
    "\n",
    "evaluator = RegressionEvaluator(predictionCol='effect_min_pred', labelCol='effect_min', metricName='mae')\n",
    "print(\"MAE: {0}\".format(evaluator.evaluate(pred_and_labels)))\n",
    "\n",
    "evaluator = RegressionEvaluator(predictionCol='effect_min_pred', labelCol='effect_min', metricName='r2')\n",
    "print(\"R2: {0}\".format(evaluator.evaluate(pred_and_labels)))"
   ]
  },
  {
   "cell_type": "code",
   "execution_count": 21,
   "metadata": {},
   "outputs": [
    {
     "name": "stdout",
     "output_type": "stream",
     "text": [
      "RMSE: 60.54401031178183\n",
      "MAE: 16.226565802387935\n",
      "R2: 0.5592337384094652\n",
      "=============\n",
      "RMSE: 67.13509009397694\n",
      "MAE: 15.105675712352076\n",
      "R2: 0.4580426288218925\n"
     ]
    }
   ],
   "source": [
    "from pyspark.ml.feature import VectorAssembler, StandardScaler\n",
    "from pyspark.ml.regression import LinearRegression\n",
    "from pyspark.ml.evaluation import RegressionEvaluator\n",
    "from pyspark.ml.regression import RandomForestRegressor\n",
    "\n",
    "#Linear\n",
    "final_df = df.select(featureCols + ['effect_plus'])\n",
    "\n",
    "# final_df = final_df.where(final_df['effect_plus'] < 1000)\n",
    "\n",
    "assembler = VectorAssembler(inputCols=featureCols, outputCol=\"features\")\n",
    "assembled_df = assembler.transform(final_df)\n",
    "standardScaler = StandardScaler(inputCol=\"features\", outputCol=\"features_scaled\")\n",
    "scaled_df = standardScaler.fit(assembled_df).transform(assembled_df)\n",
    "\n",
    "train_data, test_data = scaled_df.randomSplit([.7, .3], seed=1339)\n",
    "\n",
    "lr = (LinearRegression(featuresCol='features_scaled', labelCol=\"effect_plus\", predictionCol='effect_plus_pred',\n",
    "                       maxIter=100, standardization=False))\n",
    "linearModel = lr.fit(train_data)\n",
    "predictions = linearModel.transform(test_data)\n",
    "\n",
    "pred_and_labels = predictions.select(\"effect_plus_pred\", \"effect_plus\")\n",
    "\n",
    "evaluator = RegressionEvaluator(predictionCol='effect_plus_pred', labelCol='effect_plus', metricName='rmse')\n",
    "print(\"RMSE: {0}\".format(evaluator.evaluate(pred_and_labels)))\n",
    "\n",
    "evaluator = RegressionEvaluator(predictionCol='effect_plus_pred', labelCol='effect_plus', metricName='mae')\n",
    "print(\"MAE: {0}\".format(evaluator.evaluate(pred_and_labels)))\n",
    "\n",
    "evaluator = RegressionEvaluator(predictionCol='effect_plus_pred', labelCol='effect_plus', metricName='r2')\n",
    "print(\"R2: {0}\".format(evaluator.evaluate(pred_and_labels)))\n",
    "\n",
    "\n",
    "print(\"=============\")\n",
    "\n",
    "# Random Forest\n",
    "rf = RandomForestRegressor(labelCol=\"effect_plus\", featuresCol=\"features\", predictionCol='effect_plus_pred')\n",
    "\n",
    "rfModel = rf.fit(train_data)\n",
    "predictions = rfModel.transform(test_data)\n",
    "\n",
    "pred_and_labels = predictions.select(\"effect_plus_pred\", \"effect_plus\")\n",
    "\n",
    "evaluator = RegressionEvaluator(predictionCol='effect_plus_pred', labelCol='effect_plus', metricName='rmse')\n",
    "print(\"RMSE: {0}\".format(evaluator.evaluate(pred_and_labels)))\n",
    "\n",
    "evaluator = RegressionEvaluator(predictionCol='effect_plus_pred', labelCol='effect_plus', metricName='mae')\n",
    "print(\"MAE: {0}\".format(evaluator.evaluate(pred_and_labels)))\n",
    "\n",
    "evaluator = RegressionEvaluator(predictionCol='effect_plus_pred', labelCol='effect_plus', metricName='r2')\n",
    "print(\"R2: {0}\".format(evaluator.evaluate(pred_and_labels)))"
   ]
  },
  {
   "cell_type": "code",
   "execution_count": 8,
   "metadata": {},
   "outputs": [
    {
     "data": {
      "text/html": [
       "<div>\n",
       "<style scoped>\n",
       "    .dataframe tbody tr th:only-of-type {\n",
       "        vertical-align: middle;\n",
       "    }\n",
       "\n",
       "    .dataframe tbody tr th {\n",
       "        vertical-align: top;\n",
       "    }\n",
       "\n",
       "    .dataframe thead th {\n",
       "        text-align: right;\n",
       "    }\n",
       "</style>\n",
       "<table border=\"1\" class=\"dataframe\">\n",
       "  <thead>\n",
       "    <tr style=\"text-align: right;\">\n",
       "      <th></th>\n",
       "      <th>effect_plus_pred</th>\n",
       "      <th>effect_plus</th>\n",
       "    </tr>\n",
       "  </thead>\n",
       "  <tbody>\n",
       "    <tr>\n",
       "      <th>0</th>\n",
       "      <td>15.459413</td>\n",
       "      <td>5.019481</td>\n",
       "    </tr>\n",
       "    <tr>\n",
       "      <th>1</th>\n",
       "      <td>1.269980</td>\n",
       "      <td>17.500000</td>\n",
       "    </tr>\n",
       "    <tr>\n",
       "      <th>2</th>\n",
       "      <td>9.813061</td>\n",
       "      <td>2.625000</td>\n",
       "    </tr>\n",
       "    <tr>\n",
       "      <th>3</th>\n",
       "      <td>16.226790</td>\n",
       "      <td>26.125000</td>\n",
       "    </tr>\n",
       "    <tr>\n",
       "      <th>4</th>\n",
       "      <td>11.323741</td>\n",
       "      <td>0.197995</td>\n",
       "    </tr>\n",
       "  </tbody>\n",
       "</table>\n",
       "</div>"
      ],
      "text/plain": [
       "   effect_plus_pred  effect_plus\n",
       "0         15.459413     5.019481\n",
       "1          1.269980    17.500000\n",
       "2          9.813061     2.625000\n",
       "3         16.226790    26.125000\n",
       "4         11.323741     0.197995"
      ]
     },
     "execution_count": 8,
     "metadata": {},
     "output_type": "execute_result"
    }
   ],
   "source": [
    "res_df = pred_and_labels.toPandas()\n",
    "res_df.head()"
   ]
  },
  {
   "cell_type": "code",
   "execution_count": 9,
   "metadata": {},
   "outputs": [],
   "source": [
    "import pandas as pd\n",
    "from matplotlib import pyplot as plt\n",
    "import seaborn as sns"
   ]
  },
  {
   "cell_type": "code",
   "execution_count": 14,
   "metadata": {},
   "outputs": [
    {
     "data": {
      "text/plain": [
       "<AxesSubplot: >"
      ]
     },
     "execution_count": 14,
     "metadata": {},
     "output_type": "execute_result"
    },
    {
     "data": {
      "image/png": "[encoded data removed]",
      "text/plain": [
       "<Figure size 640x480 with 1 Axes>"
      ]
     },
     "metadata": {},
     "output_type": "display_data"
    }
   ],
   "source": [
    "sns.lineplot(data=res_df, alpha=0.5)"
   ]
  },
  {
   "cell_type": "code",
   "execution_count": 42,
   "metadata": {},
   "outputs": [],
   "source": [
    "importances = rfModel.featureImportances\n",
    "x_values = list(range(len(importances)))\n",
    "importance_dic = dict(zip(featureCols, importances.toArray()))\n",
    "importance_dic = dict(sorted(importance_dic.items(), key=lambda item: item[1], reverse=True))\n",
    "feature_extract = list(importance_dic)[:10]"
   ]
  },
  {
   "cell_type": "code",
   "execution_count": null,
   "metadata": {},
   "outputs": [],
   "source": [
    "plt.bar(x_values, importances, orientation = 'vertical')\n",
    "plt.xticks(x_values, featureCols, rotation=40)\n",
    "plt.ylabel('Importance')\n",
    "plt.xlabel('Feature')\n",
    "plt.title('Feature Importances')"
   ]
  },
  {
   "cell_type": "code",
   "execution_count": 38,
   "metadata": {},
   "outputs": [
    {
     "data": {
      "text/plain": [
       "79868"
      ]
     },
     "execution_count": 38,
     "metadata": {},
     "output_type": "execute_result"
    }
   ],
   "source": [
    "def find_outliers(df, cols):\n",
    "\n",
    "    for column in cols:\n",
    "\n",
    "        less_Q1 = 'less_Q1_{}'.format(column)\n",
    "        more_Q3 = 'more_Q3_{}'.format(column)\n",
    "        Q1 = 'Q1_{}'.format(column)\n",
    "        Q3 = 'Q3_{}'.format(column)\n",
    "\n",
    "        Q1 = df.approxQuantile(column,[0.25],relativeError=0)\n",
    "        Q3 = df.approxQuantile(column,[0.75],relativeError=0)\n",
    "        \n",
    "        IQR = Q3[0] - Q1[0]\n",
    "        \n",
    "        less_Q1 =  Q1[0] - 1.5*IQR\n",
    "        more_Q3 =  Q3[0] + 1.5*IQR\n",
    "        \n",
    "        isOutlierCol = 'is_outlier_{}'.format(column)\n",
    "        \n",
    "        df = df.withColumn(isOutlierCol, func.when((df[column] > more_Q3) | (df[column] < less_Q1), 1).otherwise(0))\n",
    "    \n",
    "    selected_columns = [column for column in df.columns if column.startswith(\"is_outlier\")]\n",
    "\n",
    "    df = df.withColumn('total_outliers',sum(df[column] for column in selected_columns))\n",
    "\n",
    "    df = df.drop(*[column for column in df.columns if column.startswith(\"is_outlier\")])\n",
    "\n",
    "    return df\n",
    "\n",
    "new_df = find_outliers(df, ['sale_increase_rate', 'normal_increase_rate', 'effect_min', 'effect_plus'])\n",
    "no_outliers_df = new_df.filter(new_df['total_Outliers']<=1)\n",
    "no_outliers_df = no_outliers_df.select(*df.columns)\n",
    "no_outliers_df.count()"
   ]
  },
  {
   "cell_type": "code",
   "execution_count": 41,
   "metadata": {},
   "outputs": [
    {
     "name": "stdout",
     "output_type": "stream",
     "text": [
      "RMSE: 1.7274383552192503\n",
      "MAE: 1.133356426826528\n",
      "R2: 0.11958090146526268\n",
      "=============\n",
      "RMSE: 1.6621913622649362\n",
      "MAE: 1.060230675222858\n",
      "R2: 0.1848333928673065\n"
     ]
    }
   ],
   "source": [
    "from pyspark.ml.feature import VectorAssembler, StandardScaler\n",
    "from pyspark.ml.regression import LinearRegression\n",
    "from pyspark.ml.evaluation import RegressionEvaluator\n",
    "from pyspark.ml.regression import RandomForestRegressor\n",
    "\n",
    "#Linear\n",
    "final_df = no_outliers_df.select(featureCols + ['effect_min'])\n",
    "\n",
    "# final_df = final_df.where(final_df['effect_min'] < 1000)\n",
    "\n",
    "assembler = VectorAssembler(inputCols=featureCols, outputCol=\"features\")\n",
    "assembled_df = assembler.transform(final_df)\n",
    "standardScaler = StandardScaler(inputCol=\"features\", outputCol=\"features_scaled\")\n",
    "scaled_df = standardScaler.fit(assembled_df).transform(assembled_df)\n",
    "\n",
    "train_data, test_data = scaled_df.randomSplit([.65, .35], seed=1339)\n",
    "\n",
    "lr = (LinearRegression(featuresCol='features_scaled', labelCol=\"effect_min\", predictionCol='effect_min_pred',\n",
    "                       maxIter=100, standardization=False))\n",
    "linearModel = lr.fit(train_data)\n",
    "predictions = linearModel.transform(test_data)\n",
    "\n",
    "pred_and_labels = predictions.select(\"effect_min_pred\", \"effect_min\")\n",
    "\n",
    "evaluator = RegressionEvaluator(predictionCol='effect_min_pred', labelCol='effect_min', metricName='rmse')\n",
    "print(\"RMSE: {0}\".format(evaluator.evaluate(pred_and_labels)))\n",
    "\n",
    "evaluator = RegressionEvaluator(predictionCol='effect_min_pred', labelCol='effect_min', metricName='mae')\n",
    "print(\"MAE: {0}\".format(evaluator.evaluate(pred_and_labels)))\n",
    "\n",
    "evaluator = RegressionEvaluator(predictionCol='effect_min_pred', labelCol='effect_min', metricName='r2')\n",
    "print(\"R2: {0}\".format(evaluator.evaluate(pred_and_labels)))\n",
    "\n",
    "\n",
    "print(\"=============\")\n",
    "\n",
    "# Random Forest\n",
    "rf = RandomForestRegressor(labelCol=\"effect_min\", featuresCol=\"features\", predictionCol='effect_min_pred')\n",
    "\n",
    "rfModel = rf.fit(train_data)\n",
    "predictions = rfModel.transform(test_data)\n",
    "\n",
    "pred_and_labels = predictions.select(\"effect_min_pred\", \"effect_min\")\n",
    "\n",
    "evaluator = RegressionEvaluator(predictionCol='effect_min_pred', labelCol='effect_min', metricName='rmse')\n",
    "print(\"RMSE: {0}\".format(evaluator.evaluate(pred_and_labels)))\n",
    "\n",
    "evaluator = RegressionEvaluator(predictionCol='effect_min_pred', labelCol='effect_min', metricName='mae')\n",
    "print(\"MAE: {0}\".format(evaluator.evaluate(pred_and_labels)))\n",
    "\n",
    "evaluator = RegressionEvaluator(predictionCol='effect_min_pred', labelCol='effect_min', metricName='r2')\n",
    "print(\"R2: {0}\".format(evaluator.evaluate(pred_and_labels)))"
   ]
  },
  {
   "cell_type": "code",
   "execution_count": 42,
   "metadata": {},
   "outputs": [
    {
     "name": "stdout",
     "output_type": "stream",
     "text": [
      "RMSE: 3.2243652674472782\n",
      "MAE: 2.2584465431817025\n",
      "R2: 0.3850805059347121\n",
      "=============\n",
      "RMSE: 2.993108533976669\n",
      "MAE: 2.072564866785788\n",
      "R2: 0.47012342198783863\n"
     ]
    }
   ],
   "source": [
    "from pyspark.ml.feature import VectorAssembler, StandardScaler\n",
    "from pyspark.ml.regression import LinearRegression\n",
    "from pyspark.ml.evaluation import RegressionEvaluator\n",
    "from pyspark.ml.regression import RandomForestRegressor\n",
    "\n",
    "#Linear\n",
    "final_df = no_outliers_df.select(featureCols + ['effect_plus'])\n",
    "\n",
    "# final_df = final_df.where(final_df['effect_plus'] < 1000)\n",
    "\n",
    "assembler = VectorAssembler(inputCols=featureCols, outputCol=\"features\")\n",
    "assembled_df = assembler.transform(final_df)\n",
    "standardScaler = StandardScaler(inputCol=\"features\", outputCol=\"features_scaled\")\n",
    "scaled_df = standardScaler.fit(assembled_df).transform(assembled_df)\n",
    "\n",
    "train_data, test_data = scaled_df.randomSplit([.6, .4], seed=1339)\n",
    "\n",
    "lr = (LinearRegression(featuresCol='features_scaled', labelCol=\"effect_plus\", predictionCol='effect_plus_pred',\n",
    "                       maxIter=100, standardization=False))\n",
    "linearModel = lr.fit(train_data)\n",
    "predictions = linearModel.transform(test_data)\n",
    "\n",
    "pred_and_labels = predictions.select(\"effect_plus_pred\", \"effect_plus\")\n",
    "\n",
    "evaluator = RegressionEvaluator(predictionCol='effect_plus_pred', labelCol='effect_plus', metricName='rmse')\n",
    "print(\"RMSE: {0}\".format(evaluator.evaluate(pred_and_labels)))\n",
    "\n",
    "evaluator = RegressionEvaluator(predictionCol='effect_plus_pred', labelCol='effect_plus', metricName='mae')\n",
    "print(\"MAE: {0}\".format(evaluator.evaluate(pred_and_labels)))\n",
    "\n",
    "evaluator = RegressionEvaluator(predictionCol='effect_plus_pred', labelCol='effect_plus', metricName='r2')\n",
    "print(\"R2: {0}\".format(evaluator.evaluate(pred_and_labels)))\n",
    "\n",
    "\n",
    "print(\"=============\")\n",
    "\n",
    "# Random Forest\n",
    "rf = RandomForestRegressor(labelCol=\"effect_plus\", featuresCol=\"features\", predictionCol='effect_plus_pred')\n",
    "\n",
    "rfModel = rf.fit(train_data)\n",
    "predictions = rfModel.transform(test_data)\n",
    "\n",
    "pred_and_labels = predictions.select(\"effect_plus_pred\", \"effect_plus\")\n",
    "\n",
    "evaluator = RegressionEvaluator(predictionCol='effect_plus_pred', labelCol='effect_plus', metricName='rmse')\n",
    "print(\"RMSE: {0}\".format(evaluator.evaluate(pred_and_labels)))\n",
    "\n",
    "evaluator = RegressionEvaluator(predictionCol='effect_plus_pred', labelCol='effect_plus', metricName='mae')\n",
    "print(\"MAE: {0}\".format(evaluator.evaluate(pred_and_labels)))\n",
    "\n",
    "evaluator = RegressionEvaluator(predictionCol='effect_plus_pred', labelCol='effect_plus', metricName='r2')\n",
    "print(\"R2: {0}\".format(evaluator.evaluate(pred_and_labels)))"
   ]
  },
  {
   "cell_type": "code",
   "execution_count": 43,
   "metadata": {},
   "outputs": [],
   "source": [
    "sc.stop()"
   ]
  }
 ],
 "metadata": {
  "kernelspec": {
   "display_name": "Python 3 (ipykernel)",
   "language": "python",
   "name": "python3"
  },
  "language_info": {
   "codemirror_mode": {
    "name": "ipython",
    "version": 3
   },
   "file_extension": ".py",
   "mimetype": "text/x-python",
   "name": "python",
   "nbconvert_exporter": "python",
   "pygments_lexer": "ipython3",
   "version": "3.8.13"
  },
  "vscode": {
   "interpreter": {
    "hash": "458dc80a6ad14cef196de2775b7390cc1d8564fbf55b15b1a029da866268c4a0"
   }
  }
 },
 "nbformat": 4,
 "nbformat_minor": 2
}
