{
 "cells": [
  {
   "cell_type": "code",
   "execution_count": 1,
   "metadata": {},
   "outputs": [],
   "source": [
    "from pyspark.sql import SparkSession\n",
    "from pyspark import SparkContext\n",
    "import pyspark.sql.functions as func\n",
    "from pyspark.sql import Window"
   ]
  },
  {
   "cell_type": "code",
   "execution_count": 2,
   "metadata": {},
   "outputs": [],
   "source": [
    "sc = SparkContext(appName=\"step1\")\n",
    "spark = SparkSession(sc)"
   ]
  },
  {
   "cell_type": "code",
   "execution_count": 3,
   "metadata": {},
   "outputs": [],
   "source": [
    "input_path = \"./raw_input/\""
   ]
  },
  {
   "cell_type": "code",
   "execution_count": 4,
   "metadata": {},
   "outputs": [
    {
     "name": "stdout",
     "output_type": "stream",
     "text": [
      "+-------------------+--------+-----+-------------+--------+-------------+--------------+--------------+------------+------+\n",
      "|               date|  Owners|Price|PriceChangeTo|discount|total_reviews|total_positive|total_negative|review_score|app_id|\n",
      "+-------------------+--------+-----+-------------+--------+-------------+--------------+--------------+------------+------+\n",
      "|2015-06-11 00:00:00|13830000|19.99|         7.49|      63|        36287|         35177|          1110|           9|   240|\n",
      "|2015-06-22 00:00:00|13893000| 7.49|        19.99|    -167|        36806|         35677|          1129|           9|   240|\n",
      "|2015-11-25 00:00:00|14300000|19.99|         7.49|      63|        40673|         39321|          1352|           9|   240|\n",
      "|2015-12-01 00:00:00|14314000| 7.49|        19.99|    -167|        40938|         39569|          1369|           9|   240|\n",
      "|2015-12-22 00:00:00|14362000|19.99|         7.49|      63|        41547|         40150|          1397|           9|   240|\n",
      "|2016-01-04 00:00:00|14444000| 7.49|        19.99|    -167|        42245|         40806|          1439|           9|   240|\n",
      "|2016-02-05 00:00:00|15218000|19.99|         4.99|      75|        43308|         41807|          1501|           9|   240|\n",
      "|2016-02-12 00:00:00|14906000| 4.99|        19.99|    -301|        43706|         42178|          1528|           9|   240|\n",
      "|2016-11-23 00:00:00|15629000|19.99|         6.79|      66|        50195|         48312|          1883|           9|   240|\n",
      "|2016-11-29 00:00:00|15462000| 6.79|        19.99|    -194|        52469|         50555|          1914|           9|   240|\n",
      "|2016-12-22 00:00:00|15799000|19.99|         6.79|      66|        53081|         51139|          1942|           9|   240|\n",
      "|2017-01-02 00:00:00|15861000| 6.79|        19.99|    -194|        53687|         51711|          1976|           9|   240|\n",
      "|2017-06-22 00:00:00|15600000|19.99|         6.79|      66|        57960|         55775|          2185|           9|   240|\n",
      "|2017-07-05 00:00:00|15883000| 6.79|        19.99|    -194|        58870|         56640|          2230|           9|   240|\n",
      "|2017-12-21 00:00:00|16215000|19.99|         6.79|      66|        63255|         60794|          2461|           9|   240|\n",
      "|2018-01-04 00:00:00|16388000| 6.79|        19.99|    -194|        64032|         61535|          2497|           9|   240|\n",
      "|2018-02-15 00:00:00|15892000|19.99|         6.79|      66|        65140|         62584|          2556|           9|   240|\n",
      "|2018-02-19 00:00:00|15823000| 6.79|        19.99|    -194|        65282|         62720|          2562|           9|   240|\n",
      "|2018-06-21 00:00:00|13820000|19.99|         6.79|      66|        67463|         64752|          2711|           9|   240|\n",
      "|2018-07-05 00:00:00|13854000| 6.79|        19.99|    -194|        67990|         65254|          2736|           9|   240|\n",
      "|2018-07-23 00:00:00|13836000|19.99|         9.99|      50|        68390|         65635|          2755|           9|   240|\n",
      "|2018-11-21 00:00:00|13778000| 9.99|         2.49|      75|        70168|         67293|          2875|           9|   240|\n",
      "|2018-11-27 00:00:00|13502000| 2.49|         9.99|    -301|        71420|         68527|          2893|           9|   240|\n",
      "|2018-12-20 00:00:00|13283000| 9.99|         2.49|      75|        71936|         69011|          2925|           9|   240|\n",
      "|2019-01-03 00:00:00|13362000| 2.49|         9.99|    -301|        72600|         69645|          2955|           9|   240|\n",
      "|2019-02-04 00:00:00|13055000| 9.99|         2.49|      75|        73368|         70369|          2999|           9|   240|\n",
      "|2019-02-11 00:00:00|13062000| 2.49|         9.99|    -301|        73615|         70605|          3010|           9|   240|\n",
      "|2019-06-25 00:00:00|18737000| 9.99|         0.99|      90|        75735|         72585|          3150|           9|   240|\n",
      "|2019-07-08 00:00:00|19618000| 0.99|         9.99|    -909|        82203|         78897|          3306|           9|   240|\n",
      "|2019-11-26 00:00:00|18978000| 9.99|         0.99|      90|        86123|         82639|          3484|           9|   240|\n",
      "|2019-12-03 00:00:00|19710000| 0.99|         9.99|    -909|        87820|         84307|          3513|           9|   240|\n",
      "|2019-12-18 00:00:00|19083000| 9.99|         0.99|      90|        89004|         85459|          3545|           9|   240|\n",
      "|2020-01-02 00:00:00|20287000| 0.99|         9.99|    -909|        90750|         87159|          3591|           9|   240|\n",
      "|2020-06-25 00:00:00|14787000| 9.99|         1.99|      80|       100993|         97084|          3909|           9|   240|\n",
      "|2020-07-09 00:00:00|15321000| 1.99|         9.99|    -402|       102564|         98605|          3959|           9|   240|\n",
      "|2020-11-24 00:00:00|14170000| 9.99|         1.99|      80|       108463|        104279|          4184|           9|   240|\n",
      "|2020-11-30 00:00:00|14542000| 1.99|         9.99|    -402|       109497|        105290|          4207|           9|   240|\n",
      "|2020-12-22 00:00:00|14480000| 9.99|         1.99|      80|       110846|        106593|          4253|           9|   240|\n",
      "|2021-01-05 00:00:00|15265000| 1.99|         9.99|    -402|       112264|        107964|          4300|           9|   240|\n",
      "|2021-06-24 00:00:00|12139000| 9.99|         1.99|      80|       120009|        115428|          4581|           9|   240|\n",
      "|2021-07-08 00:00:00|12339000| 1.99|         9.99|    -402|       121316|        116686|          4630|           9|   240|\n",
      "|2021-11-24 00:00:00|12211000| 9.99|         1.99|      80|       126859|        121998|          4861|           9|   240|\n",
      "|2021-11-30 00:00:00|  956000| 1.99|         9.99|    -402|       128595|        123706|          4889|           9|   240|\n",
      "|2021-12-22 00:00:00|12237000| 9.99|         1.99|      80|       129737|        124805|          4932|           9|   240|\n",
      "|2022-01-05 00:00:00|12737000| 1.99|         9.99|    -402|       130857|        125887|          4970|           9|   240|\n",
      "|2022-01-26 00:00:00|13457000| 9.99|         1.99|      80|       132013|        127002|          5011|           9|   240|\n",
      "|2022-02-03 00:00:00|13755000| 1.99|         9.99|    -402|       132595|        127563|          5032|           9|   240|\n",
      "|2022-06-22 00:00:00|12900000| 9.99|         1.99|      80|       137677|        132450|          5227|           9|   240|\n",
      "|2022-07-07 00:00:00|13190000| 1.99|         9.99|    -402|       138734|        133470|          5264|           9|   240|\n",
      "+-------------------+--------+-----+-------------+--------+-------------+--------------+--------------+------------+------+\n",
      "\n"
     ]
    }
   ],
   "source": [
    "df = spark.read.csv(input_path+\"240.csv\", header=True, inferSchema=True).dropna()\n",
    "df = df.withColumn(\"discount\", func.round((df.Price - df.PriceChangeTo) / df.Price * 100, 0).cast('Int'))\n",
    "df = df.withColumn('app_id', func.lit('240'))\n",
    "df.show(100)"
   ]
  },
  {
   "cell_type": "code",
   "execution_count": 5,
   "metadata": {},
   "outputs": [
    {
     "name": "stdout",
     "output_type": "stream",
     "text": [
      "+-------------------+--------+-----+-------------+--------+-------------+--------------+--------------+------------+------+-----+\n",
      "|               date|  Owners|Price|PriceChangeTo|discount|total_reviews|total_positive|total_negative|review_score|app_id|index|\n",
      "+-------------------+--------+-----+-------------+--------+-------------+--------------+--------------+------------+------+-----+\n",
      "|2015-06-11 00:00:00|13830000|19.99|         7.49|      63|        36287|         35177|          1110|           9|   240|    1|\n",
      "|2015-06-22 00:00:00|13893000| 7.49|        19.99|    -167|        36806|         35677|          1129|           9|   240|    2|\n",
      "|2015-11-25 00:00:00|14300000|19.99|         7.49|      63|        40673|         39321|          1352|           9|   240|    3|\n",
      "|2015-12-01 00:00:00|14314000| 7.49|        19.99|    -167|        40938|         39569|          1369|           9|   240|    4|\n",
      "|2015-12-22 00:00:00|14362000|19.99|         7.49|      63|        41547|         40150|          1397|           9|   240|    5|\n",
      "|2016-01-04 00:00:00|14444000| 7.49|        19.99|    -167|        42245|         40806|          1439|           9|   240|    6|\n",
      "|2016-02-05 00:00:00|15218000|19.99|         4.99|      75|        43308|         41807|          1501|           9|   240|    7|\n",
      "|2016-02-12 00:00:00|14906000| 4.99|        19.99|    -301|        43706|         42178|          1528|           9|   240|    8|\n",
      "|2016-11-23 00:00:00|15629000|19.99|         6.79|      66|        50195|         48312|          1883|           9|   240|    9|\n",
      "|2016-11-29 00:00:00|15462000| 6.79|        19.99|    -194|        52469|         50555|          1914|           9|   240|   10|\n",
      "|2016-12-22 00:00:00|15799000|19.99|         6.79|      66|        53081|         51139|          1942|           9|   240|   11|\n",
      "|2017-01-02 00:00:00|15861000| 6.79|        19.99|    -194|        53687|         51711|          1976|           9|   240|   12|\n",
      "|2017-06-22 00:00:00|15600000|19.99|         6.79|      66|        57960|         55775|          2185|           9|   240|   13|\n",
      "|2017-07-05 00:00:00|15883000| 6.79|        19.99|    -194|        58870|         56640|          2230|           9|   240|   14|\n",
      "|2017-12-21 00:00:00|16215000|19.99|         6.79|      66|        63255|         60794|          2461|           9|   240|   15|\n",
      "|2018-01-04 00:00:00|16388000| 6.79|        19.99|    -194|        64032|         61535|          2497|           9|   240|   16|\n",
      "|2018-02-15 00:00:00|15892000|19.99|         6.79|      66|        65140|         62584|          2556|           9|   240|   17|\n",
      "|2018-02-19 00:00:00|15823000| 6.79|        19.99|    -194|        65282|         62720|          2562|           9|   240|   18|\n",
      "|2018-06-21 00:00:00|13820000|19.99|         6.79|      66|        67463|         64752|          2711|           9|   240|   19|\n",
      "|2018-07-05 00:00:00|13854000| 6.79|        19.99|    -194|        67990|         65254|          2736|           9|   240|   20|\n",
      "+-------------------+--------+-----+-------------+--------+-------------+--------------+--------------+------------+------+-----+\n",
      "only showing top 20 rows\n",
      "\n"
     ]
    }
   ],
   "source": [
    "df = df.withColumn(\"index\", func.row_number().over(Window.orderBy(func.monotonically_increasing_id())))\n",
    "df.show()"
   ]
  },
  {
   "cell_type": "code",
   "execution_count": 6,
   "metadata": {},
   "outputs": [
    {
     "name": "stdout",
     "output_type": "stream",
     "text": [
      "+-------------------+--------+-----+-------------+--------+-------------+--------------+--------------+------------+------+-----+-------------------+------------------+-------------------+-------------------+-----------------+-------------+-------------------+------------------+-------------------+-------------------+-----------------+-------------+\n",
      "|               date|  Owners|Price|PriceChangeTo|discount|total_reviews|total_positive|total_negative|review_score|app_id|index|          prev_date|prev_total_reviews|prev_total_positive|prev_total_negative|prev_review_score|prev_discount|          next_date|next_total_reviews|next_total_positive|next_total_negative|next_review_score|next_discount|\n",
      "+-------------------+--------+-----+-------------+--------+-------------+--------------+--------------+------------+------+-----+-------------------+------------------+-------------------+-------------------+-----------------+-------------+-------------------+------------------+-------------------+-------------------+-----------------+-------------+\n",
      "|2015-06-11 00:00:00|13830000|19.99|         7.49|      63|        36287|         35177|          1110|           9|   240|    1|               null|              null|               null|               null|             null|         null|2015-06-22 00:00:00|             36806|              35677|               1129|                9|         -167|\n",
      "|2015-06-22 00:00:00|13893000| 7.49|        19.99|    -167|        36806|         35677|          1129|           9|   240|    2|2015-06-11 00:00:00|             36287|              35177|               1110|                9|           63|2015-11-25 00:00:00|             40673|              39321|               1352|                9|           63|\n",
      "+-------------------+--------+-----+-------------+--------+-------------+--------------+--------------+------------+------+-----+-------------------+------------------+-------------------+-------------------+-----------------+-------------+-------------------+------------------+-------------------+-------------------+-----------------+-------------+\n",
      "only showing top 2 rows\n",
      "\n"
     ]
    }
   ],
   "source": [
    "colums = [\"date\", \"total_reviews\", \"total_positive\", \"total_negative\", \"review_score\", \"discount\"]\n",
    "for c in colums:\n",
    "    df = df.withColumn(\"prev_\"+c, func.lag(func.col(c), 1).over(Window.orderBy(\"index\")))\n",
    "for c in colums:\n",
    "    df = df.withColumn(\"next_\"+c, func.lead(func.col(c), 1).over(Window.orderBy(\"index\")))\n",
    "df.show(2)"
   ]
  },
  {
   "cell_type": "code",
   "execution_count": 7,
   "metadata": {},
   "outputs": [],
   "source": [
    "res = df.filter(df.discount < 0).dropna()\n",
    "res = res.withColumn(\"total_increase\", res.total_reviews - res.prev_total_reviews)\\\n",
    "        .withColumn(\"positive_increase\", res.total_positive - res.prev_total_positive)\\\n",
    "        .withColumn(\"negative_increase\", res.total_negative - res.prev_total_negative)\\\n",
    "        .withColumn(\"days_increase\", func.datediff(res.date, res.prev_date))\\\n",
    "        .withColumn(\"total_normal\", res.next_total_reviews - res.total_reviews)\\\n",
    "        .withColumn(\"positive_normal\", res.next_total_positive - res.total_positive)\\\n",
    "        .withColumn(\"negative_normal\", res.next_total_negative - res.total_negative)\\\n",
    "        .withColumn(\"days_normal\", func.datediff(res.next_date, res.date))\\\n",
    "        .withColumn(\"raw_price\", res.PriceChangeTo)\\\n",
    "        .withColumn(\"sale_price\", res.Price)\\\n",
    "        .withColumn(\"discount\", res.prev_discount)#.\\\n",
    "        # select(\"date\", \"raw_price\", \"sale_price\", \"discount\",\\\n",
    "        #         \"total_increase\", \"positive_increase\", \"negative_increase\", \"days_increase\",\\\n",
    "        #         \"total_normal\", \"positive_normal\", \"negative_normal\", \"days_normal\")"
   ]
  },
  {
   "cell_type": "code",
   "execution_count": 8,
   "metadata": {},
   "outputs": [],
   "source": [
    "res = res.withColumn(\"total_increase_rate\", res.total_increase / res.days_increase)\\\n",
    "        .withColumn(\"total_normal_rate\", res.total_normal / res.days_normal)"
   ]
  },
  {
   "cell_type": "code",
   "execution_count": 9,
   "metadata": {},
   "outputs": [
    {
     "name": "stdout",
     "output_type": "stream",
     "text": [
      "+-------------------+---------+----------+--------+-------------------+------------------+\n",
      "|               date|raw_price|sale_price|discount|total_increase_rate| total_normal_rate|\n",
      "+-------------------+---------+----------+--------+-------------------+------------------+\n",
      "|2015-06-22 00:00:00|    19.99|      7.49|      63|  47.18181818181818| 24.78846153846154|\n",
      "|2015-12-01 00:00:00|    19.99|      7.49|      63| 44.166666666666664|              29.0|\n",
      "|2016-01-04 00:00:00|    19.99|      7.49|      63|  53.69230769230769|          33.21875|\n",
      "|2016-02-12 00:00:00|    19.99|      4.99|      75| 56.857142857142854|22.768421052631577|\n",
      "|2016-11-29 00:00:00|    19.99|      6.79|      66|              379.0|26.608695652173914|\n",
      "|2017-01-02 00:00:00|    19.99|      6.79|      66|  55.09090909090909| 24.98830409356725|\n",
      "|2017-07-05 00:00:00|    19.99|      6.79|      66|               70.0| 25.94674556213018|\n",
      "|2018-01-04 00:00:00|    19.99|      6.79|      66|               55.5| 26.38095238095238|\n",
      "|2018-02-19 00:00:00|    19.99|      6.79|      66|               35.5| 17.87704918032787|\n",
      "|2018-07-05 00:00:00|    19.99|      6.79|      66| 37.642857142857146| 22.22222222222222|\n",
      "|2018-11-27 00:00:00|     9.99|      2.49|      75| 208.66666666666666|22.434782608695652|\n",
      "|2019-01-03 00:00:00|     9.99|      2.49|      75|  47.42857142857143|              24.0|\n",
      "|2019-02-11 00:00:00|     9.99|      2.49|      75| 35.285714285714285| 15.82089552238806|\n",
      "|2019-07-08 00:00:00|     9.99|      0.99|      90| 497.53846153846155| 27.80141843971631|\n",
      "|2019-12-03 00:00:00|     9.99|      0.99|      90| 242.42857142857142| 78.93333333333334|\n",
      "|2020-01-02 00:00:00|     9.99|      0.99|      90|              116.4| 58.53142857142857|\n",
      "|2020-07-09 00:00:00|     9.99|      1.99|      80| 112.21428571428571|  42.7463768115942|\n",
      "|2020-11-30 00:00:00|     9.99|      1.99|      80| 172.33333333333334| 61.31818181818182|\n",
      "|2021-01-05 00:00:00|     9.99|      1.99|      80| 101.28571428571429| 45.55882352941177|\n",
      "|2021-07-08 00:00:00|     9.99|      1.99|      80|  93.35714285714286| 39.87769784172662|\n",
      "+-------------------+---------+----------+--------+-------------------+------------------+\n",
      "only showing top 20 rows\n",
      "\n"
     ]
    }
   ],
   "source": [
    "res.select(\"date\", \"raw_price\", \"sale_price\", \"discount\", \"total_increase_rate\", \"total_normal_rate\").show()"
   ]
  },
  {
   "cell_type": "code",
   "execution_count": 10,
   "metadata": {},
   "outputs": [
    {
     "data": {
      "text/plain": [
       "['date',\n",
       " 'Owners',\n",
       " 'Price',\n",
       " 'PriceChangeTo',\n",
       " 'discount',\n",
       " 'total_reviews',\n",
       " 'total_positive',\n",
       " 'total_negative',\n",
       " 'review_score',\n",
       " 'app_id',\n",
       " 'index',\n",
       " 'prev_date',\n",
       " 'prev_total_reviews',\n",
       " 'prev_total_positive',\n",
       " 'prev_total_negative',\n",
       " 'prev_review_score',\n",
       " 'prev_discount',\n",
       " 'next_date',\n",
       " 'next_total_reviews',\n",
       " 'next_total_positive',\n",
       " 'next_total_negative',\n",
       " 'next_review_score',\n",
       " 'next_discount',\n",
       " 'total_increase',\n",
       " 'positive_increase',\n",
       " 'negative_increase',\n",
       " 'days_increase',\n",
       " 'total_normal',\n",
       " 'positive_normal',\n",
       " 'negative_normal',\n",
       " 'days_normal',\n",
       " 'raw_price',\n",
       " 'sale_price',\n",
       " 'total_increase_rate',\n",
       " 'total_normal_rate']"
      ]
     },
     "execution_count": 10,
     "metadata": {},
     "output_type": "execute_result"
    }
   ],
   "source": [
    "res.columns"
   ]
  },
  {
   "cell_type": "code",
   "execution_count": 11,
   "metadata": {},
   "outputs": [
    {
     "data": {
      "text/plain": [
       "['date',\n",
       " 'Owners',\n",
       " 'discount',\n",
       " 'total_reviews',\n",
       " 'total_positive',\n",
       " 'total_negative',\n",
       " 'review_score',\n",
       " 'app_id',\n",
       " 'index',\n",
       " 'prev_date',\n",
       " 'prev_total_reviews',\n",
       " 'prev_total_positive',\n",
       " 'prev_total_negative',\n",
       " 'prev_review_score',\n",
       " 'prev_discount',\n",
       " 'next_date',\n",
       " 'next_total_reviews',\n",
       " 'next_total_positive',\n",
       " 'next_total_negative',\n",
       " 'next_review_score',\n",
       " 'next_discount',\n",
       " 'total_increase',\n",
       " 'positive_increase',\n",
       " 'negative_increase',\n",
       " 'days_increase',\n",
       " 'total_normal',\n",
       " 'positive_normal',\n",
       " 'negative_normal',\n",
       " 'days_normal',\n",
       " 'raw_price',\n",
       " 'sale_price',\n",
       " 'total_increase_rate',\n",
       " 'total_normal_rate']"
      ]
     },
     "execution_count": 11,
     "metadata": {},
     "output_type": "execute_result"
    }
   ],
   "source": [
    "res = res.drop('Price', 'PriceChangeTo')\n",
    "res.columns"
   ]
  },
  {
   "cell_type": "code",
   "execution_count": 12,
   "metadata": {},
   "outputs": [
    {
     "name": "stdout",
     "output_type": "stream",
     "text": [
      "+----------------+\n",
      "|sale_price_scale|\n",
      "+----------------+\n",
      "|               0|\n",
      "|               0|\n",
      "|               0|\n",
      "|               0|\n",
      "|               0|\n",
      "+----------------+\n",
      "only showing top 5 rows\n",
      "\n"
     ]
    }
   ],
   "source": [
    "res = res.withColumn(\"sale_price_scale\", (res.sale_price/10).cast('Int'))\n",
    "res.select(\"sale_price_scale\").show(5)"
   ]
  },
  {
   "cell_type": "code",
   "execution_count": 13,
   "metadata": {},
   "outputs": [
    {
     "name": "stdout",
     "output_type": "stream",
     "text": [
      "+-----+----------+--------------+\n",
      "|index|sale_price|historical_low|\n",
      "+-----+----------+--------------+\n",
      "|    2|      7.49|             1|\n",
      "|    8|      4.99|             1|\n",
      "|   10|      6.79|             1|\n",
      "|   23|      2.49|             1|\n",
      "|   29|      0.99|             1|\n",
      "|   35|      1.99|             1|\n",
      "+-----+----------+--------------+\n",
      "\n"
     ]
    }
   ],
   "source": [
    "distinct_sale_price = res.dropDuplicates(['sale_price']).select(\"index\", \"sale_price\").withColumn(\"historical_low\", func.lit(1))\n",
    "distinct_sale_price.show()"
   ]
  },
  {
   "cell_type": "code",
   "execution_count": 14,
   "metadata": {},
   "outputs": [
    {
     "name": "stdout",
     "output_type": "stream",
     "text": [
      "+-----+----------+--------------+---------------+-------------------+\n",
      "|index|sale_price|historical_low|prev_sale_price|               diff|\n",
      "+-----+----------+--------------+---------------+-------------------+\n",
      "|    2|      7.49|             1|           -1.0|               -1.0|\n",
      "|    8|      4.99|             1|           7.49|               -2.5|\n",
      "|   10|      6.79|             1|           4.99| 1.7999999999999998|\n",
      "|   23|      2.49|             1|           6.79|               -4.3|\n",
      "|   29|      0.99|             1|           2.49|-1.5000000000000002|\n",
      "|   35|      1.99|             1|           0.99|                1.0|\n",
      "+-----+----------+--------------+---------------+-------------------+\n",
      "\n"
     ]
    }
   ],
   "source": [
    "distinct_sale_price = distinct_sale_price.withColumn('prev_sale_price', \\\n",
    "    func.lag(func.col('sale_price'), 1).over(Window.orderBy(\"index\")))\n",
    "distinct_sale_price = distinct_sale_price.withColumn('diff', distinct_sale_price.sale_price - distinct_sale_price.prev_sale_price).fillna(-1)\n",
    "distinct_sale_price.show()"
   ]
  },
  {
   "cell_type": "code",
   "execution_count": 15,
   "metadata": {},
   "outputs": [
    {
     "data": {
      "text/plain": [
       "2"
      ]
     },
     "execution_count": 15,
     "metadata": {},
     "output_type": "execute_result"
    }
   ],
   "source": [
    "distinct_sale_price.where(distinct_sale_price.diff > 0).count()"
   ]
  },
  {
   "cell_type": "code",
   "execution_count": 16,
   "metadata": {},
   "outputs": [
    {
     "name": "stdout",
     "output_type": "stream",
     "text": [
      "+-----+----------+--------------+---------------+-------------------+\n",
      "|index|sale_price|historical_low|prev_sale_price|               diff|\n",
      "+-----+----------+--------------+---------------+-------------------+\n",
      "|    2|      7.49|             1|           -1.0|               -1.0|\n",
      "|    8|      4.99|             1|           7.49|               -2.5|\n",
      "|   10|      6.79|             0|           4.99| 1.7999999999999998|\n",
      "|   23|      2.49|             1|           6.79|               -4.3|\n",
      "|   29|      0.99|             1|           2.49|-1.5000000000000002|\n",
      "|   35|      1.99|             0|           0.99|                1.0|\n",
      "+-----+----------+--------------+---------------+-------------------+\n",
      "\n"
     ]
    }
   ],
   "source": [
    "distinct_sale_price = distinct_sale_price.withColumn('historical_low', func.when(distinct_sale_price.diff > 0, 0).otherwise(1))\\\n",
    "    .where(distinct_sale_price.historical_low == 1)\n",
    "distinct_sale_price.show()"
   ]
  },
  {
   "cell_type": "code",
   "execution_count": 17,
   "metadata": {},
   "outputs": [
    {
     "name": "stdout",
     "output_type": "stream",
     "text": [
      "+-----+----------+---------------+-------------------+--------------+\n",
      "|index|sale_price|prev_sale_price|               diff|historical_low|\n",
      "+-----+----------+---------------+-------------------+--------------+\n",
      "|    2|      7.49|           -1.0|               -1.0|             1|\n",
      "|    8|      4.99|           7.49|               -2.5|             1|\n",
      "|   23|      2.49|           4.99|               -2.5|             1|\n",
      "|   29|      0.99|           2.49|-1.5000000000000002|             1|\n",
      "+-----+----------+---------------+-------------------+--------------+\n",
      "\n"
     ]
    }
   ],
   "source": [
    "distinct_sale_price = res.dropDuplicates(['sale_price']).select(\"index\", \"sale_price\")\n",
    "\n",
    "distinct_sale_price = distinct_sale_price.withColumn('prev_sale_price', \\\n",
    "    func.lag(func.col('sale_price'), 1).over(Window.orderBy(\"index\")))\n",
    "\n",
    "distinct_sale_price = distinct_sale_price.withColumn('diff', \\\n",
    "    distinct_sale_price.sale_price - distinct_sale_price.prev_sale_price).fillna(-1)\n",
    "\n",
    "isRepeat = distinct_sale_price.where(distinct_sale_price.diff > 0).count() > 0\n",
    "\n",
    "while isRepeat:\n",
    "    distinct_sale_price = distinct_sale_price.withColumn('historical_low', \\\n",
    "        func.when(distinct_sale_price.diff > 0, 0).otherwise(1))\n",
    "    distinct_sale_price = distinct_sale_price.where(distinct_sale_price.historical_low == 1)\n",
    "\n",
    "    distinct_sale_price = distinct_sale_price.withColumn('prev_sale_price', \\\n",
    "        func.lag(func.col('sale_price'), 1).over(Window.orderBy(\"index\")))\n",
    "    \n",
    "    distinct_sale_price = distinct_sale_price.withColumn('diff', \\\n",
    "        distinct_sale_price.sale_price - distinct_sale_price.prev_sale_price).fillna(-1)\n",
    "\n",
    "    isRepeat = distinct_sale_price.where(distinct_sale_price.diff > 0).count() > 0\n",
    "\n",
    "distinct_sale_price.show()"
   ]
  },
  {
   "cell_type": "code",
   "execution_count": 18,
   "metadata": {},
   "outputs": [
    {
     "data": {
      "text/plain": [
       "[2, 8, 23, 29]"
      ]
     },
     "execution_count": 18,
     "metadata": {},
     "output_type": "execute_result"
    }
   ],
   "source": [
    "index_list = [row['index'] for row in distinct_sale_price.select('index').collect()]\n",
    "index_list"
   ]
  },
  {
   "cell_type": "code",
   "execution_count": 19,
   "metadata": {},
   "outputs": [
    {
     "name": "stdout",
     "output_type": "stream",
     "text": [
      "+----------+--------------+\n",
      "|sale_price|historical_low|\n",
      "+----------+--------------+\n",
      "|      7.49|             1|\n",
      "|      7.49|             0|\n",
      "|      7.49|             0|\n",
      "|      4.99|             1|\n",
      "|      6.79|             0|\n",
      "|      6.79|             0|\n",
      "|      6.79|             0|\n",
      "|      6.79|             0|\n",
      "|      6.79|             0|\n",
      "|      6.79|             0|\n",
      "|      2.49|             1|\n",
      "|      2.49|             0|\n",
      "|      2.49|             0|\n",
      "|      0.99|             1|\n",
      "|      0.99|             0|\n",
      "|      0.99|             0|\n",
      "|      1.99|             0|\n",
      "|      1.99|             0|\n",
      "|      1.99|             0|\n",
      "|      1.99|             0|\n",
      "+----------+--------------+\n",
      "only showing top 20 rows\n",
      "\n"
     ]
    }
   ],
   "source": [
    "res = res.withColumn('historical_low', func.when(res.index.isin(index_list), 1).otherwise(0))\n",
    "res.select('sale_price', 'historical_low').show()"
   ]
  },
  {
   "cell_type": "code",
   "execution_count": 20,
   "metadata": {},
   "outputs": [
    {
     "data": {
      "text/plain": [
       "['date',\n",
       " 'Owners',\n",
       " 'discount',\n",
       " 'total_reviews',\n",
       " 'total_positive',\n",
       " 'total_negative',\n",
       " 'review_score',\n",
       " 'app_id',\n",
       " 'index',\n",
       " 'prev_date',\n",
       " 'prev_total_reviews',\n",
       " 'prev_total_positive',\n",
       " 'prev_total_negative',\n",
       " 'prev_review_score',\n",
       " 'prev_discount',\n",
       " 'next_date',\n",
       " 'next_total_reviews',\n",
       " 'next_total_positive',\n",
       " 'next_total_negative',\n",
       " 'next_review_score',\n",
       " 'next_discount',\n",
       " 'total_increase',\n",
       " 'positive_increase',\n",
       " 'negative_increase',\n",
       " 'days_increase',\n",
       " 'total_normal',\n",
       " 'positive_normal',\n",
       " 'negative_normal',\n",
       " 'days_normal',\n",
       " 'raw_price',\n",
       " 'sale_price',\n",
       " 'total_increase_rate',\n",
       " 'total_normal_rate',\n",
       " 'sale_price_scale',\n",
       " 'historical_low']"
      ]
     },
     "execution_count": 20,
     "metadata": {},
     "output_type": "execute_result"
    }
   ],
   "source": [
    "res.columns"
   ]
  },
  {
   "cell_type": "code",
   "execution_count": 23,
   "metadata": {},
   "outputs": [
    {
     "name": "stdout",
     "output_type": "stream",
     "text": [
      "+------+--------------------+----------+\n",
      "|    id|            category|     genre|\n",
      "+------+--------------------+----------+\n",
      "|578080|    1,49,36,15,41,42|1,25,37,29|\n",
      "|   550|2,1,49,36,9,38,22...|         1|\n",
      "|218620|2,1,9,38,22,28,29...|       1,3|\n",
      "|  4000|2,1,49,36,47,9,38...|     23,28|\n",
      "|   240|  1,27,22,23,8,15,16|         1|\n",
      "+------+--------------------+----------+\n",
      "only showing top 5 rows\n",
      "\n"
     ]
    }
   ],
   "source": [
    "tags_df = spark.read.csv(\"./tags_input/joint_category_genre.csv\", header=True, inferSchema=True)\n",
    "tags_df.show(5)"
   ]
  },
  {
   "cell_type": "code",
   "execution_count": 24,
   "metadata": {},
   "outputs": [
    {
     "name": "stdout",
     "output_type": "stream",
     "text": [
      "+------+--------------------+---------------+\n",
      "|    id|            category|          genre|\n",
      "+------+--------------------+---------------+\n",
      "|578080|[1, 49, 36, 15, 4...|[1, 25, 37, 29]|\n",
      "|   550|[2, 1, 49, 36, 9,...|            [1]|\n",
      "|218620|[2, 1, 9, 38, 22,...|         [1, 3]|\n",
      "|  4000|[2, 1, 49, 36, 47...|       [23, 28]|\n",
      "|   240|[1, 27, 22, 23, 8...|            [1]|\n",
      "+------+--------------------+---------------+\n",
      "only showing top 5 rows\n",
      "\n"
     ]
    }
   ],
   "source": [
    "tags_df = tags_df.withColumn('category', func.split(func.col('category'), ',')).withColumn('genre', func.split(func.col('genre'), ','))\n",
    "tags_df.show(5)"
   ]
  },
  {
   "cell_type": "code",
   "execution_count": 25,
   "metadata": {},
   "outputs": [
    {
     "name": "stdout",
     "output_type": "stream",
     "text": [
      "root\n",
      " |-- id: integer (nullable = true)\n",
      " |-- category: array (nullable = true)\n",
      " |    |-- element: string (containsNull = false)\n",
      " |-- genre: array (nullable = true)\n",
      " |    |-- element: string (containsNull = false)\n",
      "\n"
     ]
    }
   ],
   "source": [
    "tags_df.printSchema()"
   ]
  },
  {
   "cell_type": "code",
   "execution_count": 26,
   "metadata": {},
   "outputs": [
    {
     "name": "stdout",
     "output_type": "stream",
     "text": [
      "+-------------------+--------+--------+-------------+--------------+--------------+------------+------+-----+-------------------+------------------+-------------------+-------------------+-----------------+-------------+-------------------+------------------+-------------------+-------------------+-----------------+-------------+--------------+-----------------+-----------------+-------------+------------+---------------+---------------+-----------+---------+----------+-------------------+------------------+----------------+--------------+---+--------------------+-----+\n",
      "|               date|  Owners|discount|total_reviews|total_positive|total_negative|review_score|app_id|index|          prev_date|prev_total_reviews|prev_total_positive|prev_total_negative|prev_review_score|prev_discount|          next_date|next_total_reviews|next_total_positive|next_total_negative|next_review_score|next_discount|total_increase|positive_increase|negative_increase|days_increase|total_normal|positive_normal|negative_normal|days_normal|raw_price|sale_price|total_increase_rate| total_normal_rate|sale_price_scale|historical_low| id|            category|genre|\n",
      "+-------------------+--------+--------+-------------+--------------+--------------+------------+------+-----+-------------------+------------------+-------------------+-------------------+-----------------+-------------+-------------------+------------------+-------------------+-------------------+-----------------+-------------+--------------+-----------------+-----------------+-------------+------------+---------------+---------------+-----------+---------+----------+-------------------+------------------+----------------+--------------+---+--------------------+-----+\n",
      "|2015-06-22 00:00:00|13893000|      63|        36806|         35677|          1129|           9|   240|    2|2015-06-11 00:00:00|             36287|              35177|               1110|                9|           63|2015-11-25 00:00:00|             40673|              39321|               1352|                9|           63|           519|              500|               19|           11|        3867|           3644|            223|        156|    19.99|      7.49|  47.18181818181818| 24.78846153846154|               0|             1|240|[1, 27, 22, 23, 8...|  [1]|\n",
      "|2015-12-01 00:00:00|14314000|      63|        40938|         39569|          1369|           9|   240|    4|2015-11-25 00:00:00|             40673|              39321|               1352|                9|           63|2015-12-22 00:00:00|             41547|              40150|               1397|                9|           63|           265|              248|               17|            6|         609|            581|             28|         21|    19.99|      7.49| 44.166666666666664|              29.0|               0|             0|240|[1, 27, 22, 23, 8...|  [1]|\n",
      "|2016-01-04 00:00:00|14444000|      63|        42245|         40806|          1439|           9|   240|    6|2015-12-22 00:00:00|             41547|              40150|               1397|                9|           63|2016-02-05 00:00:00|             43308|              41807|               1501|                9|           75|           698|              656|               42|           13|        1063|           1001|             62|         32|    19.99|      7.49|  53.69230769230769|          33.21875|               0|             0|240|[1, 27, 22, 23, 8...|  [1]|\n",
      "|2016-02-12 00:00:00|14906000|      75|        43706|         42178|          1528|           9|   240|    8|2016-02-05 00:00:00|             43308|              41807|               1501|                9|           75|2016-11-23 00:00:00|             50195|              48312|               1883|                9|           66|           398|              371|               27|            7|        6489|           6134|            355|        285|    19.99|      4.99| 56.857142857142854|22.768421052631577|               0|             1|240|[1, 27, 22, 23, 8...|  [1]|\n",
      "|2016-11-29 00:00:00|15462000|      66|        52469|         50555|          1914|           9|   240|   10|2016-11-23 00:00:00|             50195|              48312|               1883|                9|           66|2016-12-22 00:00:00|             53081|              51139|               1942|                9|           66|          2274|             2243|               31|            6|         612|            584|             28|         23|    19.99|      6.79|              379.0|26.608695652173914|               0|             0|240|[1, 27, 22, 23, 8...|  [1]|\n",
      "+-------------------+--------+--------+-------------+--------------+--------------+------------+------+-----+-------------------+------------------+-------------------+-------------------+-----------------+-------------+-------------------+------------------+-------------------+-------------------+-----------------+-------------+--------------+-----------------+-----------------+-------------+------------+---------------+---------------+-----------+---------+----------+-------------------+------------------+----------------+--------------+---+--------------------+-----+\n",
      "only showing top 5 rows\n",
      "\n"
     ]
    }
   ],
   "source": [
    "joint_df = res.join(tags_df, res.app_id == tags_df.id, 'inner')\n",
    "joint_df.show(5)"
   ]
  },
  {
   "cell_type": "code",
   "execution_count": 28,
   "metadata": {},
   "outputs": [],
   "source": [
    "df1 = joint_df.select('app_id', 'index', func.explode('category').alias('id'))"
   ]
  },
  {
   "cell_type": "code",
   "execution_count": 30,
   "metadata": {},
   "outputs": [
    {
     "name": "stdout",
     "output_type": "stream",
     "text": [
      "+------+-----+---+\n",
      "|app_id|index| id|\n",
      "+------+-----+---+\n",
      "|   240|    2|  1|\n",
      "|   240|    2| 27|\n",
      "|   240|    2| 22|\n",
      "|   240|    2| 23|\n",
      "|   240|    2|  8|\n",
      "|   240|    2| 15|\n",
      "|   240|    2| 16|\n",
      "|   240|    4|  1|\n",
      "|   240|    4| 27|\n",
      "|   240|    4| 22|\n",
      "+------+-----+---+\n",
      "only showing top 10 rows\n",
      "\n"
     ]
    }
   ],
   "source": [
    "df1.show(10)"
   ]
  },
  {
   "cell_type": "code",
   "execution_count": 33,
   "metadata": {},
   "outputs": [
    {
     "name": "stdout",
     "output_type": "stream",
     "text": [
      "+-----+---+---+---+---+---+---+---+\n",
      "|index|  1| 15| 16| 22| 23| 27|  8|\n",
      "+-----+---+---+---+---+---+---+---+\n",
      "|   31|  1|  1|  1|  1|  1|  1|  1|\n",
      "|   27|  1|  1|  1|  1|  1|  1|  1|\n",
      "|   12|  1|  1|  1|  1|  1|  1|  1|\n",
      "|   47|  1|  1|  1|  1|  1|  1|  1|\n",
      "|    6|  1|  1|  1|  1|  1|  1|  1|\n",
      "|   16|  1|  1|  1|  1|  1|  1|  1|\n",
      "|   20|  1|  1|  1|  1|  1|  1|  1|\n",
      "|   41|  1|  1|  1|  1|  1|  1|  1|\n",
      "|   43|  1|  1|  1|  1|  1|  1|  1|\n",
      "|   37|  1|  1|  1|  1|  1|  1|  1|\n",
      "|   35|  1|  1|  1|  1|  1|  1|  1|\n",
      "|    4|  1|  1|  1|  1|  1|  1|  1|\n",
      "|    8|  1|  1|  1|  1|  1|  1|  1|\n",
      "|   23|  1|  1|  1|  1|  1|  1|  1|\n",
      "|   39|  1|  1|  1|  1|  1|  1|  1|\n",
      "|   10|  1|  1|  1|  1|  1|  1|  1|\n",
      "|   45|  1|  1|  1|  1|  1|  1|  1|\n",
      "|   25|  1|  1|  1|  1|  1|  1|  1|\n",
      "|   29|  1|  1|  1|  1|  1|  1|  1|\n",
      "|   33|  1|  1|  1|  1|  1|  1|  1|\n",
      "|   14|  1|  1|  1|  1|  1|  1|  1|\n",
      "|    2|  1|  1|  1|  1|  1|  1|  1|\n",
      "|   18|  1|  1|  1|  1|  1|  1|  1|\n",
      "+-----+---+---+---+---+---+---+---+\n",
      "\n"
     ]
    }
   ],
   "source": [
    "test = df1.groupby('index').pivot('id').agg(func.lit(1))\n",
    "test.show(100)"
   ]
  },
  {
   "cell_type": "code",
   "execution_count": 34,
   "metadata": {},
   "outputs": [],
   "source": [
    "sc.stop()"
   ]
  },
  {
   "cell_type": "code",
   "execution_count": null,
   "metadata": {},
   "outputs": [],
   "source": []
  }
 ],
 "metadata": {
  "kernelspec": {
   "display_name": "Python 3.8.13 ('steam')",
   "language": "python",
   "name": "python3"
  },
  "language_info": {
   "codemirror_mode": {
    "name": "ipython",
    "version": 3
   },
   "file_extension": ".py",
   "mimetype": "text/x-python",
   "name": "python",
   "nbconvert_exporter": "python",
   "pygments_lexer": "ipython3",
   "version": "3.8.13"
  },
  "orig_nbformat": 4,
  "vscode": {
   "interpreter": {
    "hash": "458dc80a6ad14cef196de2775b7390cc1d8564fbf55b15b1a029da866268c4a0"
   }
  }
 },
 "nbformat": 4,
 "nbformat_minor": 2
}
